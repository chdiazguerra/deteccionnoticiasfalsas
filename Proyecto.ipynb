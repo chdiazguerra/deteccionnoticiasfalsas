{
 "cells": [
  {
   "cell_type": "code",
   "execution_count": 1,
   "metadata": {},
   "outputs": [],
   "source": [
    "import numpy as np\n",
    "import pandas as pd\n",
    "import matplotlib.pyplot as plt\n",
    "import seaborn as sns\n",
    "\n",
    "import re\n",
    "import string\n",
    "\n",
    "import nltk\n",
    "from nltk.corpus import stopwords\n",
    "from nltk.tokenize import TweetTokenizer \n",
    "from nltk.stem import SnowballStemmer\n",
    "\n",
    "import pickle\n",
    "\n",
    "from sklearn.model_selection import train_test_split\n",
    "from sklearn.metrics import f1_score, accuracy_score, matthews_corrcoef\n",
    "\n",
    "from sklearn.feature_extraction.text import CountVectorizer\n",
    "from sklearn.feature_extraction.text import TfidfVectorizer\n",
    "\n",
    "from sklearn.naive_bayes import MultinomialNB\n",
    "from sklearn.linear_model import LogisticRegression\n",
    "from sklearn.svm import SVC\n",
    "\n",
    "from sklearn.metrics import confusion_matrix"
   ]
  },
  {
   "cell_type": "markdown",
   "metadata": {},
   "source": [
    "## Función preprocesamiento"
   ]
  },
  {
   "cell_type": "code",
   "execution_count": 2,
   "metadata": {},
   "outputs": [
    {
     "name": "stdout",
     "output_type": "stream",
     "text": [
      "[nltk_data] Downloading package stopwords to\n",
      "[nltk_data]     C:\\Users\\chris\\AppData\\Roaming\\nltk_data...\n",
      "[nltk_data]   Package stopwords is already up-to-date!\n"
     ]
    },
    {
     "data": {
      "text/plain": [
       "True"
      ]
     },
     "execution_count": 2,
     "metadata": {},
     "output_type": "execute_result"
    }
   ],
   "source": [
    "nltk.download('stopwords')"
   ]
  },
  {
   "cell_type": "code",
   "execution_count": 7,
   "metadata": {},
   "outputs": [],
   "source": [
    "spanish_stopwords = stopwords.words('spanish')\n",
    "non_words = list(string.punctuation)\n",
    "non_words.extend(['¿', '¡'])\n",
    "stemmer = SnowballStemmer('spanish')"
   ]
  },
  {
   "cell_type": "code",
   "execution_count": 4,
   "metadata": {},
   "outputs": [],
   "source": [
    "corpus = \"HOLA, ¿cómo estás?. #VivaChile @xd www.google.com https://www.google.com  http://www.google.com aaaaaa ¡Buenísimo! a.b\""
   ]
  },
  {
   "cell_type": "code",
   "execution_count": 5,
   "metadata": {},
   "outputs": [
    {
     "data": {
      "text/plain": [
       "'HOLA, ¿cómo estás?   @xd     aaaaaa ¡Buenísimo! a b'"
      ]
     },
     "execution_count": 5,
     "metadata": {},
     "output_type": "execute_result"
    }
   ],
   "source": [
    "corpus2 = re.sub(r'^RT[\\s]+', '', corpus)  #Remover RT\n",
    "corpus2 = re.sub(r'https?:\\/\\/\\S+', '', corpus2)   #Remover hyperlinks\n",
    "corpus2 = re.sub(r'www\\S+', '', corpus2)   #Remover links\n",
    "corpus2 = re.sub(r'#\\S+', '', corpus2)    #Remover Hashtags\n",
    "corpus2 = corpus2.replace('.', ' ')   #Cambiar . por espacio (algunas noticias no tienen esta separación)\n",
    "corpus2"
   ]
  },
  {
   "cell_type": "code",
   "execution_count": 5,
   "metadata": {},
   "outputs": [],
   "source": [
    "#Tokenizador que deja todo en minusculas, elimina @usuario, y reduce secuencia de mas de 3 caracteres iguales seguidos\n",
    "tokenizer = TweetTokenizer(preserve_case=False, strip_handles=True, reduce_len=True)"
   ]
  },
  {
   "cell_type": "code",
   "execution_count": 7,
   "metadata": {},
   "outputs": [],
   "source": [
    "tokens = tokenizer.tokenize(corpus2)"
   ]
  },
  {
   "cell_type": "code",
   "execution_count": 8,
   "metadata": {},
   "outputs": [],
   "source": [
    "#Eliminar stopwords y puntuación\n",
    "\n",
    "clean = []\n",
    "for word in tokens:\n",
    "    if (word not in spanish_stopwords and word not in non_words):\n",
    "        clean.append(word)"
   ]
  },
  {
   "cell_type": "code",
   "execution_count": 9,
   "metadata": {},
   "outputs": [
    {
     "name": "stdout",
     "output_type": "stream",
     "text": [
      "Tokens principio: ['hola', ',', '¿', 'cómo', 'estás', '?', 'aaa', '¡', 'buenísimo', '!', 'a', 'b']\n",
      "Tokens limpios: ['hola', 'cómo', 'aaa', 'buenísimo', 'b']\n"
     ]
    }
   ],
   "source": [
    "print('Tokens principio:', tokens)\n",
    "print('Tokens limpios:', clean)"
   ]
  },
  {
   "cell_type": "code",
   "execution_count": 10,
   "metadata": {},
   "outputs": [],
   "source": [
    "corpus_stem = []\n",
    "\n",
    "for word in clean:\n",
    "    stem_word = stemmer.stem(word)\n",
    "    corpus_stem.append(stem_word)"
   ]
  },
  {
   "cell_type": "code",
   "execution_count": 11,
   "metadata": {},
   "outputs": [
    {
     "data": {
      "text/plain": [
       "['hol', 'com', 'aaa', 'buenisim', 'b']"
      ]
     },
     "execution_count": 11,
     "metadata": {},
     "output_type": "execute_result"
    }
   ],
   "source": [
    "corpus_stem"
   ]
  },
  {
   "cell_type": "code",
   "execution_count": 2,
   "metadata": {},
   "outputs": [],
   "source": [
    "def process_corpus(corpus):\n",
    "    '''\n",
    "    Input:\n",
    "        corpus: (string) con el texto a procesar \n",
    "    Output:\n",
    "        clean_corpus: (list) con el texto tokenizado y limpio\n",
    "    '''\n",
    "    spanish_stopwords = stopwords.words('spanish')  #Stopwords en español\n",
    "    non_words = list(string.punctuation)   #Símbolos de puntuación\n",
    "    non_words.extend(['¿', '¡', '”', '“', '«', '»', '’', '‘'])     #Símbolos de puntuación en español\n",
    "    stemmer = SnowballStemmer('spanish')   #Stemming en español\n",
    "    \n",
    "    \n",
    "    corpus2 = re.sub(r'^RT[\\s]+', '', corpus)  #Remover RT\n",
    "    corpus2 = re.sub(r'https?:\\/\\/\\S+', '', corpus2)   #Remover hyperlinks\n",
    "    corpus2 = re.sub(r'www\\S+', '', corpus2)   #Remover links\n",
    "    corpus2 = re.sub(r'#\\S+', '', corpus2)    #Remover Hashtags\n",
    "    corpus2 = corpus2.replace('.', ' ')   #Cambiar . por espacio (algunas noticias no tienen esta separación)\n",
    "    \n",
    "    #Tokenizador que deja todo en minusculas, elimina @usuario (ciertas noticias tienen tweets), y reduce secuencia de mas de 3 caracteres iguales seguidos\n",
    "    tokenizer = TweetTokenizer(preserve_case=False, strip_handles=True, reduce_len=True)\n",
    "    \n",
    "    tokens = tokenizer.tokenize(corpus2)  #tokenizacion del corpus\n",
    "    \n",
    "    clean_corpus = []\n",
    "    for word in tokens:\n",
    "        if (word not in spanish_stopwords and word not in non_words):\n",
    "            stem_word = stemmer.stem(word)  #stemming\n",
    "            clean_corpus.append(stem_word)  #se agrega la palabra a la lista del corpus limpio\n",
    "    \n",
    "    return clean_corpus"
   ]
  },
  {
   "cell_type": "code",
   "execution_count": 13,
   "metadata": {},
   "outputs": [
    {
     "data": {
      "text/plain": [
       "['hol', 'com', 'aaa', 'buenisim', 'b']"
      ]
     },
     "execution_count": 13,
     "metadata": {},
     "output_type": "execute_result"
    }
   ],
   "source": [
    "process_corpus(corpus)"
   ]
  },
  {
   "cell_type": "markdown",
   "metadata": {},
   "source": [
    "## Preprocesamiento de las noticias"
   ]
  },
  {
   "cell_type": "code",
   "execution_count": 14,
   "metadata": {},
   "outputs": [
    {
     "data": {
      "text/html": [
       "<div>\n",
       "<style scoped>\n",
       "    .dataframe tbody tr th:only-of-type {\n",
       "        vertical-align: middle;\n",
       "    }\n",
       "\n",
       "    .dataframe tbody tr th {\n",
       "        vertical-align: top;\n",
       "    }\n",
       "\n",
       "    .dataframe thead th {\n",
       "        text-align: right;\n",
       "    }\n",
       "</style>\n",
       "<table border=\"1\" class=\"dataframe\">\n",
       "  <thead>\n",
       "    <tr style=\"text-align: right;\">\n",
       "      <th></th>\n",
       "      <th>Titulo</th>\n",
       "      <th>Cuerpo</th>\n",
       "      <th>Clase</th>\n",
       "    </tr>\n",
       "  </thead>\n",
       "  <tbody>\n",
       "    <tr>\n",
       "      <th>0</th>\n",
       "      <td>Delfines calientes preparan nuevo espectáculo ...</td>\n",
       "      <td>\\n En la Universidad Maritima de Ovlaks, Litua...</td>\n",
       "      <td>0</td>\n",
       "    </tr>\n",
       "    <tr>\n",
       "      <th>1</th>\n",
       "      <td>Nueva especie: los perros koalas</td>\n",
       "      <td>\\nAUSTRALIA.- Según el dr. Adret Koene, esta n...</td>\n",
       "      <td>0</td>\n",
       "    </tr>\n",
       "    <tr>\n",
       "      <th>2</th>\n",
       "      <td>El viejo pascuero será degollado en vivo</td>\n",
       "      <td>\\nEn la madrugada de hoy, un grupo de terroris...</td>\n",
       "      <td>0</td>\n",
       "    </tr>\n",
       "    <tr>\n",
       "      <th>3</th>\n",
       "      <td>Paris Hilton es Satanica</td>\n",
       "      <td>\\nParis Hilton es considerada una de las mujer...</td>\n",
       "      <td>0</td>\n",
       "    </tr>\n",
       "    <tr>\n",
       "      <th>4</th>\n",
       "      <td>Decretan Alerta Ambiental en Plaza de Armas</td>\n",
       "      <td>\\nYa los escolares pasaron de moda con sus pro...</td>\n",
       "      <td>0</td>\n",
       "    </tr>\n",
       "    <tr>\n",
       "      <th>5</th>\n",
       "      <td>Rave Cristiana todo un éxito en la cuarta y qu...</td>\n",
       "      <td>\\nLa rave cristiana lleva más de dos mil años ...</td>\n",
       "      <td>0</td>\n",
       "    </tr>\n",
       "    <tr>\n",
       "      <th>6</th>\n",
       "      <td>Los niños pre-escolares apoyan el paro estudia...</td>\n",
       "      <td>\\nCon casi 6 meses de protestas, los estudiant...</td>\n",
       "      <td>0</td>\n",
       "    </tr>\n",
       "    <tr>\n",
       "      <th>7</th>\n",
       "      <td>Cáos en el complejo clínico \"Contigo Aprendo\"</td>\n",
       "      <td>\\nLas nuevas tendencias sexuales masculinas, e...</td>\n",
       "      <td>0</td>\n",
       "    </tr>\n",
       "    <tr>\n",
       "      <th>8</th>\n",
       "      <td>Sernac demanda a Carozzi por productos en mal ...</td>\n",
       "      <td>\\nDon Luis Ansoe Mowes, un consumidor indignad...</td>\n",
       "      <td>0</td>\n",
       "    </tr>\n",
       "    <tr>\n",
       "      <th>9</th>\n",
       "      <td>MierDonals inagura nuevo restorán en el corazó...</td>\n",
       "      <td>\\nCEMETERIO GENERAL.- Con una billonaria inver...</td>\n",
       "      <td>0</td>\n",
       "    </tr>\n",
       "  </tbody>\n",
       "</table>\n",
       "</div>"
      ],
      "text/plain": [
       "                                              Titulo  \\\n",
       "0  Delfines calientes preparan nuevo espectáculo ...   \n",
       "1                   Nueva especie: los perros koalas   \n",
       "2           El viejo pascuero será degollado en vivo   \n",
       "3                           Paris Hilton es Satanica   \n",
       "4        Decretan Alerta Ambiental en Plaza de Armas   \n",
       "5  Rave Cristiana todo un éxito en la cuarta y qu...   \n",
       "6  Los niños pre-escolares apoyan el paro estudia...   \n",
       "7      Cáos en el complejo clínico \"Contigo Aprendo\"   \n",
       "8  Sernac demanda a Carozzi por productos en mal ...   \n",
       "9  MierDonals inagura nuevo restorán en el corazó...   \n",
       "\n",
       "                                              Cuerpo  Clase  \n",
       "0  \\n En la Universidad Maritima de Ovlaks, Litua...      0  \n",
       "1  \\nAUSTRALIA.- Según el dr. Adret Koene, esta n...      0  \n",
       "2  \\nEn la madrugada de hoy, un grupo de terroris...      0  \n",
       "3  \\nParis Hilton es considerada una de las mujer...      0  \n",
       "4  \\nYa los escolares pasaron de moda con sus pro...      0  \n",
       "5  \\nLa rave cristiana lleva más de dos mil años ...      0  \n",
       "6  \\nCon casi 6 meses de protestas, los estudiant...      0  \n",
       "7  \\nLas nuevas tendencias sexuales masculinas, e...      0  \n",
       "8  \\nDon Luis Ansoe Mowes, un consumidor indignad...      0  \n",
       "9  \\nCEMETERIO GENERAL.- Con una billonaria inver...      0  "
      ]
     },
     "metadata": {},
     "output_type": "display_data"
    },
    {
     "data": {
      "text/html": [
       "<div>\n",
       "<style scoped>\n",
       "    .dataframe tbody tr th:only-of-type {\n",
       "        vertical-align: middle;\n",
       "    }\n",
       "\n",
       "    .dataframe tbody tr th {\n",
       "        vertical-align: top;\n",
       "    }\n",
       "\n",
       "    .dataframe thead th {\n",
       "        text-align: right;\n",
       "    }\n",
       "</style>\n",
       "<table border=\"1\" class=\"dataframe\">\n",
       "  <thead>\n",
       "    <tr style=\"text-align: right;\">\n",
       "      <th></th>\n",
       "      <th>Titulo</th>\n",
       "      <th>Cuerpo</th>\n",
       "      <th>Clase</th>\n",
       "    </tr>\n",
       "  </thead>\n",
       "  <tbody>\n",
       "    <tr>\n",
       "      <th>37713</th>\n",
       "      <td>Rusia cerrará temporalmente sus fronteras con ...</td>\n",
       "      <td>Moscú anunció este jueves (30.01.2020) el cier...</td>\n",
       "      <td>1</td>\n",
       "    </tr>\n",
       "    <tr>\n",
       "      <th>37714</th>\n",
       "      <td>Elecciones internas PS: Álvaro Elizalde y Maya...</td>\n",
       "      <td>Este domingo se dio inicio a la elección inter...</td>\n",
       "      <td>1</td>\n",
       "    </tr>\n",
       "    <tr>\n",
       "      <th>37715</th>\n",
       "      <td>Marine Le Pen vs. Emmanuel Macron: ¿qué presid...</td>\n",
       "      <td>América Latina rara vez llega a figurar en las...</td>\n",
       "      <td>1</td>\n",
       "    </tr>\n",
       "    <tr>\n",
       "      <th>37716</th>\n",
       "      <td>Defensoría de la Niñez condena la \"criminaliza...</td>\n",
       "      <td>Tras los últimos hechos de violencia ocurridos...</td>\n",
       "      <td>1</td>\n",
       "    </tr>\n",
       "    <tr>\n",
       "      <th>37717</th>\n",
       "      <td>Hong Kong vuelve a protestar a pesar de la pro...</td>\n",
       "      <td>La nueva protesta tiene lugar en Yuen Long, la...</td>\n",
       "      <td>1</td>\n",
       "    </tr>\n",
       "    <tr>\n",
       "      <th>37718</th>\n",
       "      <td>Polonia: alcalde muere tras ser apuñalado en m...</td>\n",
       "      <td>El alcalde de Gdansk, Pawel Adamowicz, terminó...</td>\n",
       "      <td>1</td>\n",
       "    </tr>\n",
       "    <tr>\n",
       "      <th>37719</th>\n",
       "      <td>Se abre al público la restaurada Escotilla 8 d...</td>\n",
       "      <td>Ayer se abrió al público la renovada Escotilla...</td>\n",
       "      <td>1</td>\n",
       "    </tr>\n",
       "    <tr>\n",
       "      <th>37720</th>\n",
       "      <td>Fiscalía peruana pide arraigo nacional para PPK</td>\n",
       "      <td>El equipo especial anticorrupción de la Fiscal...</td>\n",
       "      <td>1</td>\n",
       "    </tr>\n",
       "    <tr>\n",
       "      <th>37721</th>\n",
       "      <td>China pide a EE.UU. y Corea del Norte \"contenc...</td>\n",
       "      <td>El ministro chino de Asuntos Exteriores, Wang ...</td>\n",
       "      <td>1</td>\n",
       "    </tr>\n",
       "    <tr>\n",
       "      <th>37722</th>\n",
       "      <td>El Senado vota por continuar el proceso y llev...</td>\n",
       "      <td>El Senado brasileño se pronunció hoy por una c...</td>\n",
       "      <td>1</td>\n",
       "    </tr>\n",
       "  </tbody>\n",
       "</table>\n",
       "</div>"
      ],
      "text/plain": [
       "                                                  Titulo  \\\n",
       "37713  Rusia cerrará temporalmente sus fronteras con ...   \n",
       "37714  Elecciones internas PS: Álvaro Elizalde y Maya...   \n",
       "37715  Marine Le Pen vs. Emmanuel Macron: ¿qué presid...   \n",
       "37716  Defensoría de la Niñez condena la \"criminaliza...   \n",
       "37717  Hong Kong vuelve a protestar a pesar de la pro...   \n",
       "37718  Polonia: alcalde muere tras ser apuñalado en m...   \n",
       "37719  Se abre al público la restaurada Escotilla 8 d...   \n",
       "37720    Fiscalía peruana pide arraigo nacional para PPK   \n",
       "37721  China pide a EE.UU. y Corea del Norte \"contenc...   \n",
       "37722  El Senado vota por continuar el proceso y llev...   \n",
       "\n",
       "                                                  Cuerpo  Clase  \n",
       "37713  Moscú anunció este jueves (30.01.2020) el cier...      1  \n",
       "37714  Este domingo se dio inicio a la elección inter...      1  \n",
       "37715  América Latina rara vez llega a figurar en las...      1  \n",
       "37716  Tras los últimos hechos de violencia ocurridos...      1  \n",
       "37717  La nueva protesta tiene lugar en Yuen Long, la...      1  \n",
       "37718  El alcalde de Gdansk, Pawel Adamowicz, terminó...      1  \n",
       "37719  Ayer se abrió al público la renovada Escotilla...      1  \n",
       "37720  El equipo especial anticorrupción de la Fiscal...      1  \n",
       "37721  El ministro chino de Asuntos Exteriores, Wang ...      1  \n",
       "37722  El Senado brasileño se pronunció hoy por una c...      1  "
      ]
     },
     "metadata": {},
     "output_type": "display_data"
    }
   ],
   "source": [
    "excel = pd.read_excel(\"Datos.xlsx\")  #Cargar datos\n",
    "excel = excel.dropna()\n",
    "display(excel.head(10))   #Ver las primeras 10 noticias\n",
    "display(excel.tail(10))    #Ver las ultimas 10 noticias"
   ]
  },
  {
   "cell_type": "code",
   "execution_count": 15,
   "metadata": {},
   "outputs": [],
   "source": [
    "news_dict = excel.to_dict()"
   ]
  },
  {
   "cell_type": "code",
   "execution_count": 16,
   "metadata": {},
   "outputs": [],
   "source": [
    "titulos = news_dict['Titulo']\n",
    "cuerpos = news_dict['Cuerpo']\n",
    "clases = news_dict['Clase']"
   ]
  },
  {
   "cell_type": "code",
   "execution_count": 17,
   "metadata": {},
   "outputs": [],
   "source": [
    "titulos_procesados = {}\n",
    "for i, titulo in titulos.items():\n",
    "    titulos_procesados[i] = process_corpus(titulo)"
   ]
  },
  {
   "cell_type": "code",
   "execution_count": 18,
   "metadata": {},
   "outputs": [],
   "source": [
    "cuerpos_procesados = {}\n",
    "for i, cuerpo in cuerpos.items():\n",
    "    cuerpos_procesados[i] = process_corpus(cuerpo)"
   ]
  },
  {
   "cell_type": "code",
   "execution_count": 21,
   "metadata": {},
   "outputs": [
    {
     "data": {
      "text/plain": [
       "37723"
      ]
     },
     "execution_count": 21,
     "metadata": {},
     "output_type": "execute_result"
    }
   ],
   "source": [
    "len(titulos_procesados)"
   ]
  },
  {
   "cell_type": "code",
   "execution_count": 23,
   "metadata": {},
   "outputs": [
    {
     "name": "stdout",
     "output_type": "stream",
     "text": [
      "\u001b[94m Titulo: ['delfin', 'calient', 'prep', 'nuev', 'espectacul', 'iquiqueñ'] \u001b[92m Cuerpo: ['univers', 'maritim', 'ovlaks', 'lituani', 'grup', 'cientif', 'pescador', 'logr', 'constru', 'aparat', 'logr', 'codific', 'part', 'son', 'emit', 'criatur', 'dr', 'antros', 'jolsor', 'biolog', 'marin', 'encontr', 'fras', 'emit', 'delfin', 'conten', 'sexual', 'fuert', 'hac', 'referent', 'aparat', 'reproductor', 'femenin', 'abre', 'pelican', 'fras', 'mas', 'repit', 'pon', 'muj', 'frent', 'delfin', 'vam', 'ahog', 'pendej', 'mierd', 'vam', 'pis', 'herman', 'dic', 'pon', 'niñ', 'frent', 'pon', 'hombr', 'sol', 'asient', 'cabez', 'grit', 'aweona', 'famos', 'bailarin', 'morandi', 'campañ', 'marl', 'oliveir', 'habl', 'adiccion', 'delfin', 'delfin', 'animal', 'lind', 'siempr', 'trat', 'ten', 'cerc', 'cas', 'dos', 'gomos', 'mas', 'dur', 'vibr', 'rie', 'ecolog', 'chilen', 'quier', 'constru', 'delfinari', 'ademas', 'constru', 'mitic', 'caf', 'entrepiern', 'conch', 'mar'] \u001b[93m Clase: 0\n",
      "\u001b[94m Titulo: ['sen', 'vot', 'continu', 'proces', 'llev', 'rousseff', 'juici', 'final'] \u001b[92m Cuerpo: ['sen', 'brasileñ', 'pronunc', 'hoy', 'clar', 'mayor', 'favor', 'continu', 'proces', 'president', 'suspend', 'dilm', 'rousseff', 'pon', 'frent', 'juici', 'final', 'celebr', 'fin', 'mism', 'mes', 'sesion', 'prolong', 'unas', '16', 'hor', 'dirig', 'president', 'cort', 'suprem', 'ricard', 'lewandowski', 'garant', 'constitucional', 'proces', 'sen', 'aprob', '59', 'vot', 'favor', '21', 'inform', 'recomiend', 'destitu', 'rousseff', 'acus', 'grav', 'irregular', 'fiscal', 'decision', 'llev', 'ultim', 'sesion', 'convoc', 'fin', 'mes', 'rousseff', 'despoj', 'mandat', 'si', 'asi', 'decid', 'mayor', 'calific', '54', 'vot', 'represent', 'dos', 'terci', 'plen', 'sen', 'adversari', 'prob', 'hoy', 'practic', 'consolid', 'fech', 'juici', 'final', 'deb', 'ser', 'establec', 'cort', 'suprem', 'calcul', 'sesion', 'dur', 'tres', 'cinc', 'dias', 'fas', 'definit', 'volv', 'ser', 'escuch', 'testig', 'defens', 'part', 'acus', 'si', 'rousseff', 'destitu', 'mandat', 'venc', '1', 'ener', '2019', 'complet', 'michel', 'tem', '12', 'may', 'pas', 'ocup', 'vicepresident', 'sustitu', 'form', 'interin', 'fech', 'instaur', 'proces', 'suspend', 'funcion', 'pes', 'cort', 'suprem', 'previst', 'sesion', 'comenz', 'mart', 'conclu', 'entrad', 'madrug', 'miercol', 'dur', 'men', 'unas', 'veint', 'hor', 'tramit', 'abrev', 'graci', 'acuerd', 'parlamentari', 'acept', 'renunci', 'derech', 'palabr', 'maner', 'president', 'part', 'social', 'democraci', 'brasileñ', 'psdb', 'aeci', 'nev', 'pronunc', 'nombr', 'diez', 'senador', 'formacion', 'declar', 'apoy', 'proces', 'nev', 'derrot', 'rousseff', 'eleccion', 'presidencial', '2014', 'apen', 'tres', 'punt', 'porcentual', 'afirm', 'proces', 'demostr', 'verac', 'denunci', 'irrespons', 'mandatari', 'aquell', 'campañ', 'pais', 'constat', 'ahor', 'dij', '2014', 'quier', 'aquell', 'comet', 'crimen', 'respond', 'ello', 'asi', 'trat', 'president', 'republ', 'pued', 'encim', 'ley', 'declar', 'rousseff', 'segun', 'dijeron', 'efe', 'fuent', 'entorn', 'acompañ', 'sesion', 'television', 'palaci', 'alvor', 'resident', 'oficial', 'president', 'aun', 'ocup', 'convert', 'fortin', 'resistent', 'golp', 'calif', 'proces', 'tod', 'jorn', 'sen', 'dedic', 'votacion', 'inform', 'recomiend', 'destitu', 'rousseff', 'sol', 'romp', 'silenci', 'traves', 'red', 'social', 'agradec', 'solidar', 'senador', 'estadounidens', 'berni', 'sanders', 'sanders', 'rival', 'hillary', 'clinton', 'primari', 'part', 'democrat', 'unid', 'afirm', 'hoy', 'comunic', 'profund', 'preocup', 'esfuerz', 'alej', 'pod', 'president', 'eleg', 'democrat', 'sostuv', 'intent', 'alej', 'pod', 'rousseff', 'juici', 'legal', 'sin', 'polit', 'unid', 'pued', 'qued', 'silenci', 'mientr', 'institu', 'democrat', 'ali', 'import', 'socav', 'rousseff', 'enclaustr', 'palaci', 'alvor', 'prep', 'cart', 'brasileñ', 'document', 'adelant', 'propondr', 'pais', 'convoc', 'unas', 'nuev', 'eleccion', 'presidencial', 'mayor', 'breved', 'cas', 'absuelt', 'recuper', 'pod', 'propuest', 'embarg', 'requer', 'aprob', 'parlament', 'sid', 'hostil', 'prev', 'resist', 'nuev', 'comici', 'si', 'general', 'incluyer', 'renov', 'cam', 'legisl'] \u001b[93m Clase: 1\n"
     ]
    }
   ],
   "source": [
    "#Ejemplos\n",
    "print('\\033[94m Titulo:', titulos_procesados[0], '\\033[92m Cuerpo:', cuerpos_procesados[0], '\\033[93m Clase:', clases[0])\n",
    "print('\\033[94m Titulo:', titulos_procesados[37722], '\\033[92m Cuerpo:', cuerpos_procesados[37722], '\\033[93m Clase:', clases[37722])"
   ]
  },
  {
   "cell_type": "code",
   "execution_count": 24,
   "metadata": {},
   "outputs": [],
   "source": [
    "noticias_preprocesadas = {'Titulo': titulos_procesados, 'Cuerpo': cuerpos_procesados, 'Clase': clases}"
   ]
  },
  {
   "cell_type": "code",
   "execution_count": 25,
   "metadata": {},
   "outputs": [],
   "source": [
    "#Guardar datos\n",
    "with open('noticias.pickle', 'wb') as handle:\n",
    "    pickle.dump(noticias_preprocesadas, handle, protocol=pickle.HIGHEST_PROTOCOL)"
   ]
  },
  {
   "cell_type": "code",
   "execution_count": 26,
   "metadata": {},
   "outputs": [
    {
     "data": {
      "text/html": [
       "<div>\n",
       "<style scoped>\n",
       "    .dataframe tbody tr th:only-of-type {\n",
       "        vertical-align: middle;\n",
       "    }\n",
       "\n",
       "    .dataframe tbody tr th {\n",
       "        vertical-align: top;\n",
       "    }\n",
       "\n",
       "    .dataframe thead th {\n",
       "        text-align: right;\n",
       "    }\n",
       "</style>\n",
       "<table border=\"1\" class=\"dataframe\">\n",
       "  <thead>\n",
       "    <tr style=\"text-align: right;\">\n",
       "      <th></th>\n",
       "      <th>Titulo</th>\n",
       "      <th>Cuerpo</th>\n",
       "      <th>Clase</th>\n",
       "    </tr>\n",
       "  </thead>\n",
       "  <tbody>\n",
       "    <tr>\n",
       "      <th>0</th>\n",
       "      <td>Policía premiará con gasolina de por vida a qu...</td>\n",
       "      <td>La Policía Nacional del Perú anunció que premi...</td>\n",
       "      <td>0</td>\n",
       "    </tr>\n",
       "    <tr>\n",
       "      <th>1</th>\n",
       "      <td>Meche Aráoz: Hallan indicios de corrupción mie...</td>\n",
       "      <td>Indignante pero esperado. Según una reciente i...</td>\n",
       "      <td>0</td>\n",
       "    </tr>\n",
       "    <tr>\n",
       "      <th>2</th>\n",
       "      <td>Esposo de Keiko encontró trabajo virtual pero ...</td>\n",
       "      <td>Una lástima. El esposo de Keiko Fujimori, can...</td>\n",
       "      <td>0</td>\n",
       "    </tr>\n",
       "    <tr>\n",
       "      <th>3</th>\n",
       "      <td>La naturaleza se recupera: aparecen miles de a...</td>\n",
       "      <td>La cuarentena ha logrado que la naturaleza re...</td>\n",
       "      <td>0</td>\n",
       "    </tr>\n",
       "    <tr>\n",
       "      <th>4</th>\n",
       "      <td>Verónika acepta que unión con Cerrón fue un ER...</td>\n",
       "      <td>Tras aceptar que cometió un ERROR con mayúscul...</td>\n",
       "      <td>0</td>\n",
       "    </tr>\n",
       "    <tr>\n",
       "      <th>5</th>\n",
       "      <td>Malo y gritón del equipo extrañan cancelar las...</td>\n",
       "      <td>Todos la pasan mal en la cuarentena, especia...</td>\n",
       "      <td>0</td>\n",
       "    </tr>\n",
       "    <tr>\n",
       "      <th>6</th>\n",
       "      <td>Pastor exige vacuna contra COVID-19 porque no ...</td>\n",
       "      <td>Indignado y sin recibir diezmos, un milagroso...</td>\n",
       "      <td>0</td>\n",
       "    </tr>\n",
       "    <tr>\n",
       "      <th>7</th>\n",
       "      <td>Para mala suerte de Greta Thunberg y su velero...</td>\n",
       "      <td>Una desagradable noticia. La activista Greta T...</td>\n",
       "      <td>0</td>\n",
       "    </tr>\n",
       "    <tr>\n",
       "      <th>8</th>\n",
       "      <td>Para calmar ánimos: Piñera ordena cambiar los ...</td>\n",
       "      <td>Harto de no saber cómo calmar las protestas de...</td>\n",
       "      <td>0</td>\n",
       "    </tr>\n",
       "    <tr>\n",
       "      <th>9</th>\n",
       "      <td>Poder Judicial reconoció matrimonio civil entr...</td>\n",
       "      <td>Luego de varias instancias y varios periodista...</td>\n",
       "      <td>0</td>\n",
       "    </tr>\n",
       "  </tbody>\n",
       "</table>\n",
       "</div>"
      ],
      "text/plain": [
       "                                              Titulo  \\\n",
       "0  Policía premiará con gasolina de por vida a qu...   \n",
       "1  Meche Aráoz: Hallan indicios de corrupción mie...   \n",
       "2  Esposo de Keiko encontró trabajo virtual pero ...   \n",
       "3  La naturaleza se recupera: aparecen miles de a...   \n",
       "4  Verónika acepta que unión con Cerrón fue un ER...   \n",
       "5  Malo y gritón del equipo extrañan cancelar las...   \n",
       "6  Pastor exige vacuna contra COVID-19 porque no ...   \n",
       "7  Para mala suerte de Greta Thunberg y su velero...   \n",
       "8  Para calmar ánimos: Piñera ordena cambiar los ...   \n",
       "9  Poder Judicial reconoció matrimonio civil entr...   \n",
       "\n",
       "                                              Cuerpo  Clase  \n",
       "0  La Policía Nacional del Perú anunció que premi...      0  \n",
       "1  Indignante pero esperado. Según una reciente i...      0  \n",
       "2   Una lástima. El esposo de Keiko Fujimori, can...      0  \n",
       "3   La cuarentena ha logrado que la naturaleza re...      0  \n",
       "4  Tras aceptar que cometió un ERROR con mayúscul...      0  \n",
       "5    Todos la pasan mal en la cuarentena, especia...      0  \n",
       "6   Indignado y sin recibir diezmos, un milagroso...      0  \n",
       "7  Una desagradable noticia. La activista Greta T...      0  \n",
       "8  Harto de no saber cómo calmar las protestas de...      0  \n",
       "9  Luego de varias instancias y varios periodista...      0  "
      ]
     },
     "metadata": {},
     "output_type": "display_data"
    },
    {
     "data": {
      "text/html": [
       "<div>\n",
       "<style scoped>\n",
       "    .dataframe tbody tr th:only-of-type {\n",
       "        vertical-align: middle;\n",
       "    }\n",
       "\n",
       "    .dataframe tbody tr th {\n",
       "        vertical-align: top;\n",
       "    }\n",
       "\n",
       "    .dataframe thead th {\n",
       "        text-align: right;\n",
       "    }\n",
       "</style>\n",
       "<table border=\"1\" class=\"dataframe\">\n",
       "  <thead>\n",
       "    <tr style=\"text-align: right;\">\n",
       "      <th></th>\n",
       "      <th>Titulo</th>\n",
       "      <th>Cuerpo</th>\n",
       "      <th>Clase</th>\n",
       "    </tr>\n",
       "  </thead>\n",
       "  <tbody>\n",
       "    <tr>\n",
       "      <th>2973</th>\n",
       "      <td>Angustia de familia de víctimas de COVID-19 se...</td>\n",
       "      <td>Llegaron al auditorio del edificio de la Defen...</td>\n",
       "      <td>1</td>\n",
       "    </tr>\n",
       "    <tr>\n",
       "      <th>2974</th>\n",
       "      <td>Fiscalía llama a rendir versión a María Paula ...</td>\n",
       "      <td>La ministra de Gobierno, María Paula Romo; el ...</td>\n",
       "      <td>1</td>\n",
       "    </tr>\n",
       "    <tr>\n",
       "      <th>2975</th>\n",
       "      <td>Plátano, alimento \"estrella\" en la Costa duran...</td>\n",
       "      <td>Desde pequeñas las hermanas Melissa y Michelle...</td>\n",
       "      <td>1</td>\n",
       "    </tr>\n",
       "    <tr>\n",
       "      <th>2976</th>\n",
       "      <td>Astinave entra a vender acciones por más de $8...</td>\n",
       "      <td>Astinave venderá las acciones que tiene en el ...</td>\n",
       "      <td>1</td>\n",
       "    </tr>\n",
       "    <tr>\n",
       "      <th>2977</th>\n",
       "      <td>Alcalde de Samborondón, Juan José Yúnez, confi...</td>\n",
       "      <td>Juan José Yúnez, alcalde de Samborondón, confi...</td>\n",
       "      <td>1</td>\n",
       "    </tr>\n",
       "    <tr>\n",
       "      <th>2978</th>\n",
       "      <td>Muere Jean Kennedy Smith, la única hermana sob...</td>\n",
       "      <td>Jean Kennedy Smith, la última hermana viva del...</td>\n",
       "      <td>1</td>\n",
       "    </tr>\n",
       "    <tr>\n",
       "      <th>2979</th>\n",
       "      <td>Teatro Centro de Arte reabre sus puertas con c...</td>\n",
       "      <td>Luego de cuatro meses de mantener las puertas ...</td>\n",
       "      <td>1</td>\n",
       "    </tr>\n",
       "    <tr>\n",
       "      <th>2980</th>\n",
       "      <td>El Salvador, sin casos de coronavirus, decreta...</td>\n",
       "      <td>El Salvador y Guatemala tomaron el martes las ...</td>\n",
       "      <td>1</td>\n",
       "    </tr>\n",
       "    <tr>\n",
       "      <th>2981</th>\n",
       "      <td>Opciones para aprender el sistema de lenguaje ...</td>\n",
       "      <td>La sociedad y su entorno dieron un cambio rotu...</td>\n",
       "      <td>1</td>\n",
       "    </tr>\n",
       "    <tr>\n",
       "      <th>2982</th>\n",
       "      <td>En su cumpleaños 100, una mujer cumplió su sue...</td>\n",
       "      <td>Para su cumpleaños número 100, Ruth Bryant cum...</td>\n",
       "      <td>1</td>\n",
       "    </tr>\n",
       "  </tbody>\n",
       "</table>\n",
       "</div>"
      ],
      "text/plain": [
       "                                                 Titulo  \\\n",
       "2973  Angustia de familia de víctimas de COVID-19 se...   \n",
       "2974  Fiscalía llama a rendir versión a María Paula ...   \n",
       "2975  Plátano, alimento \"estrella\" en la Costa duran...   \n",
       "2976  Astinave entra a vender acciones por más de $8...   \n",
       "2977  Alcalde de Samborondón, Juan José Yúnez, confi...   \n",
       "2978  Muere Jean Kennedy Smith, la única hermana sob...   \n",
       "2979  Teatro Centro de Arte reabre sus puertas con c...   \n",
       "2980  El Salvador, sin casos de coronavirus, decreta...   \n",
       "2981  Opciones para aprender el sistema de lenguaje ...   \n",
       "2982  En su cumpleaños 100, una mujer cumplió su sue...   \n",
       "\n",
       "                                                 Cuerpo  Clase  \n",
       "2973  Llegaron al auditorio del edificio de la Defen...      1  \n",
       "2974  La ministra de Gobierno, María Paula Romo; el ...      1  \n",
       "2975  Desde pequeñas las hermanas Melissa y Michelle...      1  \n",
       "2976  Astinave venderá las acciones que tiene en el ...      1  \n",
       "2977  Juan José Yúnez, alcalde de Samborondón, confi...      1  \n",
       "2978  Jean Kennedy Smith, la última hermana viva del...      1  \n",
       "2979  Luego de cuatro meses de mantener las puertas ...      1  \n",
       "2980  El Salvador y Guatemala tomaron el martes las ...      1  \n",
       "2981  La sociedad y su entorno dieron un cambio rotu...      1  \n",
       "2982  Para su cumpleaños número 100, Ruth Bryant cum...      1  "
      ]
     },
     "metadata": {},
     "output_type": "display_data"
    }
   ],
   "source": [
    "#Datos de testeo\n",
    "excel = pd.read_excel(\"Testeo.xlsx\")  #Cargar datos\n",
    "excel = excel.dropna()\n",
    "display(excel.head(10))   #Ver las primeras 10 noticias\n",
    "display(excel.tail(10))    #Ver las ultimas 10 noticias"
   ]
  },
  {
   "cell_type": "code",
   "execution_count": 27,
   "metadata": {},
   "outputs": [],
   "source": [
    "test_dict = excel.to_dict()"
   ]
  },
  {
   "cell_type": "code",
   "execution_count": 28,
   "metadata": {},
   "outputs": [],
   "source": [
    "titulos = test_dict['Titulo']\n",
    "cuerpos = test_dict['Cuerpo']\n",
    "clases = test_dict['Clase']"
   ]
  },
  {
   "cell_type": "code",
   "execution_count": 29,
   "metadata": {},
   "outputs": [],
   "source": [
    "titulos_procesados = {}\n",
    "for i, titulo in titulos.items():\n",
    "    titulos_procesados[i] = process_corpus(titulo)"
   ]
  },
  {
   "cell_type": "code",
   "execution_count": 30,
   "metadata": {},
   "outputs": [],
   "source": [
    "cuerpos_procesados = {}\n",
    "for i, cuerpo in cuerpos.items():\n",
    "    cuerpos_procesados[i] = process_corpus(cuerpo)"
   ]
  },
  {
   "cell_type": "code",
   "execution_count": 31,
   "metadata": {},
   "outputs": [
    {
     "data": {
      "text/plain": [
       "2982"
      ]
     },
     "execution_count": 31,
     "metadata": {},
     "output_type": "execute_result"
    }
   ],
   "source": [
    "len(titulos_procesados)"
   ]
  },
  {
   "cell_type": "code",
   "execution_count": 32,
   "metadata": {},
   "outputs": [
    {
     "name": "stdout",
     "output_type": "stream",
     "text": [
      "\u001b[94m Titulo: ['polic', 'premi', 'gasolin', 'vid', 'encuentr', 'general', 'donayr'] \u001b[92m Cuerpo: ['polic', 'nacional', 'peru', 'anunc', 'premi', 'gasolin', 'vid', 'logr', 'hall', 'parader', 'ahor', 'profug', 'excongres', 'edwin', 'donayr', 'sentenci', 'rob', 'gasolin', 'ejercit', 'peruan', 'segun', 'institu', 'edwin', 'donayr', 'inubic', 'contest', 'whatsapp', 'haran', 'posibl', 'hall', 'mejor', 'si', 'colabor', 'ciudadan', 'interes', 'lanz', 'anunci', 'polic', 'recib', 'mil', 'notif', 'posibl', 'escondit', 'general', 'embarg', 'ahor', 'trat', 'fals', 'alarm', 'embarg', 'notif', 'real', 'lug', 'donayr', 'escap', 'ex', 'avis', 'real', 'donayr', 'escap', 'just', 'mayor', 'pist', 'embarg', 'sospech', 'avis', 'provin', 'mism', 'general', 'recompens', 'atract', 'ama', 'gasolin', 'toled', 'ama', 'alcohol', 'dij', 'polic', 'afuer', 'cucard', 'ampliacion', 'baj', 'gasolin', '90'] \u001b[93m Clase: 0\n",
      "\u001b[94m Titulo: ['opcion', 'aprend', 'sistem', 'lenguaj', 'señ', 'ecuador'] \u001b[92m Cuerpo: ['socied', 'entorn', 'dieron', 'cambi', 'rotund', 'lleg', 'nuev', 'coronavirus', 'ecuador', 'vari', 'sector', 'ven', 'oblig', 'reinvent', 'pod', 'enfrent', 'pas', 'fisic', 'digital', 'sector', 'educ', 'nivel', 'dentr', 'sector', 'ofert', 'capacit', 'difund', 'red', 'social', 'enseñ', 'lenguaj', 'señ', 'vari', 'asoci', 'organiz', 'promuev', 'derech', 'person', 'capac', 'audit', 'reduc', 'ofrec', 'taller', 'difund', 'sistem', 'comun', 'capt', 'interes', 'ciudadan', 'general', 'mes', 'pandemi', 'ahor', 'estudi', 'dic', 'alexandr', 'rey', 'interpret', 'curs', 'lengu', 'señ', 'ecuatorian', 'asoci', 'sord', 'tungurahu', 'cuent', 'realiz', 'modul', '30', 'hor', 'distribu', 'dos', 'seman', 'numer', 'maxim', 'quinc', 'estudi', 'ambat', 'cualqui', 'ciud', 'pais', 'cost', '65', 'dolar', 'estudi', 'ambat', 'inclu', 'libr', 'entreg', '50', 'estudi', 'part', 'pais', 'inclu', 'libr', 'digital', 'part', 'segund', 'modul', 'cost', '40', 'detall', 'rey', 'clas', 'dur', 'dos', 'hor', 'dia', 'dict', 'traves', 'plataform', 'digital', 'zoom', 'lun', '6', 'juli', 'inici', 'nuev', 'modul', 'ecuador', 'enseñ', 'lenguaj', 'señ', 'diccionari', 'lengu', 'señ', 'ecuatorian', 'gabriel', 'roman', 'lanz', '2012', 'deb', 'dispon', 'version', 'web', 'tard', 'viern', '3', 'juli', 'funcion', 'palabr', 'diferent', 'sistem', 'lenguaj', 'señ', 'pais', 'salud', 'frut', 'coment', 'rey', 'asoci', 'comunitari', 'sord', 'guayaquil', 'ofrec', 'clas', 'señ', 'curs', 'lengu', 'señ', 'ecuatorian', 'asoci', 'comunitari', 'sord', 'guayaquil', 'orgull', 'cad', 'estudi', 'dars', 'tiemp', 'pon', 'amor', 'cad', 'clas', 'pud', 'impart', 'onlin', 'via', 'zoom', 'aprob', 'vem', '2do', 'modul', 'mensaj', 'poste', 'organiz', 'fanpag', 'const', 'siguient', 'detall', 'modul', '4', 'modul', '30', 'hor', 'cad', 'horari', 'lun', 'sab', 'valor', '50', 'modul', 'inclu', 'inscripcion', 'certific', 'cup', 'maxim', '10', 'person', 'curs', 'inform', 'ascg', 'lsec', '@gmail', 'com', 'whatsapp', '09993', '6524', 'dic', 'si', 'person', 'sord', 'reun', 'sol', 'lug', 'form', 'cuart', 'nacion', 'grand', 'mund', 'poste', 'fanpag', 'anim', 'person', 'inscrib', 'opcion', 'facebook', 'public', 'vide', 'instruct', 'pod', 'interpret', 'cancion', 'lengu', 'señ', 'cuent', 'gio', 'señ', 'romp', 'paradigm', 'sinnumer', 'poste', 'ayud', 'inclusion', 'poblacion', 'capac', 'audit', 'reduc', 'vide', 'quier', 'enseñart', 'maner', 'sup', 'facil', 'clar', 'com', 'pued', 'cant', 'cas', 'cancion', 'pollit', 'amarillit', 'lenguaj', 'señ', 'ecuatorian', 'dic', 'interpret', 'vide', 'muestr', 'brev', 'busqued', 'pod', 'ingres', 'mund', 'nuev', 'conoc', 'i', 'socied', 'entorn', 'dieron', 'cambi', 'rotund', 'lleg', 'nuev', 'coronavirus', 'ecuador', 'vari', 'sector', 'ven', 'oblig', 'reinvent', 'pod', 'enfrent', 'pas', 'fisic', 'digital', 'sector', 'educ', 'nivel', 'dentr', 'sector', 'ofert', 'capacit', 'difund', 'red', 'social', 'enseñ', 'lenguaj', 'señ', 'vari', 'asoci', 'organiz', 'promuev', 'derech', 'person', 'capac', 'audit', 'reduc', 'ofrec', 'taller', 'difund', 'sistem', 'comun', 'capt', 'interes', 'ciudadan', 'general', 'mes', 'pandemi', 'ahor', 'estudi', 'dic', 'alexandr', 'rey', 'interpret', 'curs', 'lengu', 'señ', 'ecuatorian', 'asoci', 'sord', 'tungurahu', 'cuent', 'realiz', 'modul', '30', 'hor', 'distribu', 'dos', 'seman', 'numer', 'maxim', 'quinc', 'estudi', 'ambat', 'cualqui', 'ciud', 'pais', 'cost', '65', 'dolar', 'estudi', 'ambat', 'inclu', 'libr', 'entreg', '50', 'estudi', 'part', 'pais', 'inclu', 'libr', 'digital', 'part', 'segund', 'modul', 'cost', '40', 'detall', 'rey', 'clas', 'dur', 'dos', 'hor', 'dia', 'dict', 'traves', 'plataform', 'digital', 'zoom', 'lun', '6', 'juli', 'inici', 'nuev', 'modul', 'ecuador', 'enseñ', 'lenguaj', 'señ', 'diccionari', 'lengu', 'señ', 'ecuatorian', 'gabriel', 'roman', 'lanz', '2012', 'deb', 'dispon', 'version', 'web', 'tard', 'viern', '3', 'juli', 'funcion', 'palabr', 'diferent', 'sistem', 'lenguaj', 'señ', 'pais', 'salud', 'frut', 'coment', 'rey', 'asoci', 'comunitari', 'sord', 'guayaquil', 'ofrec', 'clas', 'señ', 'curs', 'lengu', 'señ', 'ecuatorian', 'asoci', 'comunitari', 'sord', 'guayaquil', 'orgull', 'cad', 'estudi', 'dars', 'tiemp', 'pon', 'amor', 'cad', 'clas', 'pud', 'impart', 'onlin', 'via', 'zoom', 'aprob', 'vem', '2do', 'modul', 'mensaj', 'poste', 'organiz', 'fanpag', 'const', 'siguient', 'detall', 'dic', 'si', 'person', 'sord', 'reun', 'sol', 'lug', 'form', 'cuart', 'nacion', 'grand', 'mund', 'poste', 'fanpag', 'anim', 'person', 'inscrib', 'opcion', 'facebook', 'public', 'vide', 'instruct', 'pod', 'interpret', 'cancion', 'lengu', 'señ', 'cuent', 'gio', 'señ', 'romp', 'paradigm', 'sinnumer', 'poste', 'ayud', 'inclusion', 'poblacion', 'capac', 'audit', 'reduc', 'vide', 'quier', 'enseñart', 'maner', 'sup', 'facil', 'clar', 'com', 'pued', 'cant', 'cas', 'cancion', 'pollit', 'amarillit', 'lenguaj', 'señ', 'ecuatorian', 'dic', 'interpret', 'vide', 'muestr', 'brev', 'busqued', 'pod', 'ingres', 'mund', 'nuev', 'conoc', 'i'] \u001b[93m Clase: 1\n"
     ]
    }
   ],
   "source": [
    "#Ejemplos\n",
    "print('\\033[94m Titulo:', titulos_procesados[0], '\\033[92m Cuerpo:', cuerpos_procesados[0], '\\033[93m Clase:', clases[0])\n",
    "print('\\033[94m Titulo:', titulos_procesados[2981], '\\033[92m Cuerpo:', cuerpos_procesados[2981], '\\033[93m Clase:', clases[2981])"
   ]
  },
  {
   "cell_type": "code",
   "execution_count": 33,
   "metadata": {},
   "outputs": [],
   "source": [
    "noticias_preprocesadas = {'Titulo': titulos_procesados, 'Cuerpo': cuerpos_procesados, 'Clase': clases}"
   ]
  },
  {
   "cell_type": "code",
   "execution_count": 34,
   "metadata": {},
   "outputs": [],
   "source": [
    "#Guardar datos de testeo\n",
    "with open('testeo.pickle', 'wb') as handle:\n",
    "    pickle.dump(noticias_preprocesadas, handle, protocol=pickle.HIGHEST_PROTOCOL)"
   ]
  },
  {
   "cell_type": "markdown",
   "metadata": {},
   "source": [
    "# Cargar Datos"
   ]
  },
  {
   "cell_type": "code",
   "execution_count": 2,
   "metadata": {},
   "outputs": [],
   "source": [
    "# Cargar datos\n",
    "with open('noticias.pickle', 'rb') as handle:\n",
    "    data = pickle.load(handle)"
   ]
  },
  {
   "cell_type": "code",
   "execution_count": 3,
   "metadata": {},
   "outputs": [],
   "source": [
    "titulos = list(data['Titulo'].values())\n",
    "cuerpos = list(data['Cuerpo'].values())\n",
    "clases = list(data['Clase'].values())"
   ]
  },
  {
   "cell_type": "code",
   "execution_count": 4,
   "metadata": {},
   "outputs": [],
   "source": [
    "x_train_titles, x_val_titles, y_train_titles, y_val_titles = train_test_split(titulos, clases, test_size=0.15, random_state=0)"
   ]
  },
  {
   "cell_type": "code",
   "execution_count": 5,
   "metadata": {},
   "outputs": [],
   "source": [
    "x_train_body, x_val_body, y_train_body, y_val_body = train_test_split(cuerpos, clases, test_size=0.15, random_state=0)"
   ]
  },
  {
   "cell_type": "code",
   "execution_count": 6,
   "metadata": {},
   "outputs": [],
   "source": [
    "with open('testeo.pickle', 'rb') as handle:\n",
    "    test_data = pickle.load(handle)"
   ]
  },
  {
   "cell_type": "code",
   "execution_count": 7,
   "metadata": {},
   "outputs": [],
   "source": [
    "test_titles = list(test_data['Titulo'].values())\n",
    "test_body = list(test_data['Cuerpo'].values())\n",
    "test_clases = list(test_data['Clase'].values())"
   ]
  },
  {
   "cell_type": "markdown",
   "metadata": {},
   "source": [
    "## Naive Bayes a mano"
   ]
  },
  {
   "cell_type": "code",
   "execution_count": 39,
   "metadata": {},
   "outputs": [],
   "source": [
    "def count(xs, ys):\n",
    "    '''\n",
    "    Input:\n",
    "        xs: (list) de corpus\n",
    "        ys: (list) de clases correspondiente a cada corpus\n",
    "    Output:\n",
    "        resultado: (dict) con keys (palabra, clase) y valor la frecuencia de la palabra en titulos de esa clase\n",
    "    '''\n",
    "    resultado = {}\n",
    "    \n",
    "    for y, x in zip(ys, xs):\n",
    "        for word in x:\n",
    "            key = (word, y)   #Se forma la llave del diccionario\n",
    "\n",
    "            if key in resultado:   #Si ya existe la llave\n",
    "                resultado[key] += 1  #Se aumenta su frecuencia en 1\n",
    "            else:    #Si no existe\n",
    "                resultado[key] = 1   #Se crea\n",
    "                \n",
    "    return resultado"
   ]
  },
  {
   "cell_type": "code",
   "execution_count": 40,
   "metadata": {},
   "outputs": [],
   "source": [
    "def train_naive_bayes(freqs, train_x, train_y):\n",
    "    '''\n",
    "    Input:\n",
    "        freqs: (dict) con keys (palabra, clase) y valor la frecuencia de la palabra en el corpus de esa clase\n",
    "        train_x: (list) de corpus\n",
    "        train_y: (list) de clases correspondiente a cada corpus\n",
    "    Output:\n",
    "        logprior: (float) logprior del conjunto -> log(Dreal)-log(Dfake) con D cantidad de documentos\n",
    "        loglikelihood: (dict) de la loglikelihood de cada palabra -> log(P(Wreal)/P(Wfake)) con W la palabra\n",
    "    '''\n",
    "    loglikelihood = {}\n",
    "    logprior = 0\n",
    "\n",
    "    # Calcular la cantidad de palabras unicas\n",
    "    vocab = set([pair[0] for pair in freqs.keys()])\n",
    "    V = len(vocab)\n",
    "\n",
    "    # Calcular el numero de palabras en documentos reales y fakes\n",
    "    N_real = N_fake = 0\n",
    "    for pair in freqs.keys():\n",
    "        # Si la clase es real\n",
    "        if pair[1] > 0:\n",
    "\n",
    "            # Incrementar el numero de palabras en reales\n",
    "            N_real += freqs.get(pair)\n",
    "\n",
    "        # Si la clase es fake\n",
    "        else:\n",
    "\n",
    "            # Incrementar el numero de palabras en fake\n",
    "            N_fake += freqs.get(pair)\n",
    "\n",
    "    # Calcular el número de documentos\n",
    "    D = len(train_y)\n",
    "\n",
    "    # Calcular el numero de documentos reales\n",
    "    D_real = sum(train_y)\n",
    "\n",
    "    # Calcular el numero de documentos falsos\n",
    "    D_fake = D-D_real\n",
    "\n",
    "    # Calcular logprior\n",
    "    logprior = np.log(D_real)-np.log(D_fake)\n",
    "\n",
    "    #Para cada palabra\n",
    "    for word in vocab:\n",
    "        # Obtener cuantas veces apareció en documentos reales y fakes\n",
    "        freq_real = freqs.get((word, 1), 0)\n",
    "        freq_fake = freqs.get((word, 0), 0)\n",
    "\n",
    "        # Calcular las probabilidades, con laplace smoothing\n",
    "        p_w_real = (freq_real+1)/(N_real+V)\n",
    "        p_w_fake = (freq_fake+1)/(N_fake+V)\n",
    "\n",
    "        # Calcular likelihood para la palabra\n",
    "        loglikelihood[word] = np.log(p_w_real/p_w_fake)\n",
    "\n",
    "    return logprior, loglikelihood"
   ]
  },
  {
   "cell_type": "code",
   "execution_count": 41,
   "metadata": {},
   "outputs": [],
   "source": [
    "def naive_bayes_predict(corpus, logprior, loglikelihood):\n",
    "    '''\n",
    "    Input:\n",
    "        corpus: (str) con la noticia\n",
    "        logprior: (float) con el logprior de entrenamiento\n",
    "        loglikelihood: (dict) de cada palabra con su loglikelihood\n",
    "    Output:\n",
    "        p: (float) la cuma de todos los loglikelihoods de cada palabra (que esta en el diccionario) del corpus + logprior \n",
    "\n",
    "    '''\n",
    "\n",
    "    # Inicializar la probabilidad con el logprior\n",
    "    p = logprior\n",
    "\n",
    "    #Para cada palabra del corpus\n",
    "    for word in corpus:\n",
    "        p += loglikelihood.get(word, 0)  #Añadir la loglikelihood de la palabra si es que existe en el diccionario, 0 si no existe\n",
    "\n",
    "    return p"
   ]
  },
  {
   "cell_type": "code",
   "execution_count": 42,
   "metadata": {},
   "outputs": [],
   "source": [
    "def test_naive_bayes(test_x, logprior, loglikelihood):\n",
    "    \"\"\"\n",
    "    Input:\n",
    "        test_x: (list) de noticias de prueba\n",
    "        logprior: (float) la logprior\n",
    "        loglikelihood: (dict) con los loglikelihoods de cada palabra\n",
    "    Output:\n",
    "        predictions: (list) predicciones hechas por el modelo\n",
    "    \"\"\"\n",
    "\n",
    "    predictions = []\n",
    "    for corpus in test_x:\n",
    "        # Si la prediccion es mayor a 0 es clase real, sino, fake\n",
    "        if naive_bayes_predict(corpus, logprior, loglikelihood) > 0:\n",
    "            predictions_i = 1\n",
    "        else:\n",
    "            predictions_i = 0\n",
    "\n",
    "        # Agregar la predicción a la lista de predicciones\n",
    "        predictions.append(predictions_i)\n",
    "\n",
    "    return predictions"
   ]
  },
  {
   "cell_type": "markdown",
   "metadata": {},
   "source": [
    "### Solo titulos"
   ]
  },
  {
   "cell_type": "code",
   "execution_count": 71,
   "metadata": {},
   "outputs": [],
   "source": [
    "freqs = count(x_train_titles, y_train_titles)   #Diccionario con las frecuencias de cada palabra"
   ]
  },
  {
   "cell_type": "code",
   "execution_count": 72,
   "metadata": {},
   "outputs": [],
   "source": [
    "logprior, loglikelihood = train_naive_bayes(freqs, x_train_titles, y_train_titles)"
   ]
  },
  {
   "cell_type": "code",
   "execution_count": 73,
   "metadata": {},
   "outputs": [],
   "source": [
    "predicciones = test_naive_bayes(x_val_titles, logprior, loglikelihood)"
   ]
  },
  {
   "cell_type": "code",
   "execution_count": 74,
   "metadata": {},
   "outputs": [],
   "source": [
    "test = test_naive_bayes(test_titles, logprior, loglikelihood)"
   ]
  },
  {
   "cell_type": "markdown",
   "metadata": {},
   "source": [
    "#### Scores"
   ]
  },
  {
   "cell_type": "markdown",
   "metadata": {},
   "source": [
    "##### Validación"
   ]
  },
  {
   "cell_type": "code",
   "execution_count": 75,
   "metadata": {},
   "outputs": [
    {
     "data": {
      "text/plain": [
       "0.8853154267538434"
      ]
     },
     "execution_count": 75,
     "metadata": {},
     "output_type": "execute_result"
    }
   ],
   "source": [
    "accuracy_score(y_val_titles,predicciones)"
   ]
  },
  {
   "cell_type": "code",
   "execution_count": 76,
   "metadata": {},
   "outputs": [
    {
     "data": {
      "text/plain": [
       "0.7671094269690758"
      ]
     },
     "execution_count": 76,
     "metadata": {},
     "output_type": "execute_result"
    }
   ],
   "source": [
    "matthews_corrcoef(y_val_titles, predicciones)"
   ]
  },
  {
   "cell_type": "markdown",
   "metadata": {},
   "source": [
    "###### Testeo"
   ]
  },
  {
   "cell_type": "code",
   "execution_count": 77,
   "metadata": {},
   "outputs": [
    {
     "data": {
      "text/plain": [
       "0.6696847753185782"
      ]
     },
     "execution_count": 77,
     "metadata": {},
     "output_type": "execute_result"
    }
   ],
   "source": [
    "accuracy_score(test_clases,test)"
   ]
  },
  {
   "cell_type": "code",
   "execution_count": 78,
   "metadata": {},
   "outputs": [
    {
     "data": {
      "text/plain": [
       "0.3420865395832823"
      ]
     },
     "execution_count": 78,
     "metadata": {},
     "output_type": "execute_result"
    }
   ],
   "source": [
    "matthews_corrcoef(test_clases, test)"
   ]
  },
  {
   "cell_type": "markdown",
   "metadata": {},
   "source": [
    "### Solo cuerpos"
   ]
  },
  {
   "cell_type": "code",
   "execution_count": 79,
   "metadata": {},
   "outputs": [],
   "source": [
    "freqs = count(x_train_body, y_train_body)   #Diccionario con las frecuencias de cada palabra"
   ]
  },
  {
   "cell_type": "code",
   "execution_count": 80,
   "metadata": {},
   "outputs": [],
   "source": [
    "logprior, loglikelihood = train_naive_bayes(freqs, x_train_body, y_train_body)"
   ]
  },
  {
   "cell_type": "code",
   "execution_count": 81,
   "metadata": {},
   "outputs": [],
   "source": [
    "predicciones = test_naive_bayes(x_val_body, logprior, loglikelihood)"
   ]
  },
  {
   "cell_type": "code",
   "execution_count": 82,
   "metadata": {},
   "outputs": [],
   "source": [
    "test = test_naive_bayes(test_body, logprior, loglikelihood)"
   ]
  },
  {
   "cell_type": "markdown",
   "metadata": {},
   "source": [
    "#### Scores"
   ]
  },
  {
   "cell_type": "markdown",
   "metadata": {},
   "source": [
    "##### Validacion"
   ]
  },
  {
   "cell_type": "code",
   "execution_count": 83,
   "metadata": {},
   "outputs": [
    {
     "data": {
      "text/plain": [
       "0.9443364552040997"
      ]
     },
     "execution_count": 83,
     "metadata": {},
     "output_type": "execute_result"
    }
   ],
   "source": [
    "accuracy_score(y_val_body,predicciones)"
   ]
  },
  {
   "cell_type": "code",
   "execution_count": 84,
   "metadata": {
    "scrolled": true
   },
   "outputs": [
    {
     "data": {
      "text/plain": [
       "0.886933045180748"
      ]
     },
     "execution_count": 84,
     "metadata": {},
     "output_type": "execute_result"
    }
   ],
   "source": [
    "matthews_corrcoef(y_val_body, predicciones)"
   ]
  },
  {
   "cell_type": "markdown",
   "metadata": {},
   "source": [
    "##### Testeo"
   ]
  },
  {
   "cell_type": "code",
   "execution_count": 85,
   "metadata": {},
   "outputs": [
    {
     "data": {
      "text/plain": [
       "0.7951039570757881"
      ]
     },
     "execution_count": 85,
     "metadata": {},
     "output_type": "execute_result"
    }
   ],
   "source": [
    "accuracy_score(test_clases,test)"
   ]
  },
  {
   "cell_type": "code",
   "execution_count": 86,
   "metadata": {},
   "outputs": [
    {
     "data": {
      "text/plain": [
       "0.5884592029655352"
      ]
     },
     "execution_count": 86,
     "metadata": {},
     "output_type": "execute_result"
    }
   ],
   "source": [
    "matthews_corrcoef(test_clases, test)"
   ]
  },
  {
   "cell_type": "markdown",
   "metadata": {},
   "source": [
    "## TF"
   ]
  },
  {
   "cell_type": "markdown",
   "metadata": {},
   "source": [
    "### Titulos"
   ]
  },
  {
   "cell_type": "code",
   "execution_count": 8,
   "metadata": {},
   "outputs": [],
   "source": [
    "#Conjunto de entrenamiento\n",
    "tf_vectorizer_train_titles = CountVectorizer()\n",
    "train_titles = [' '.join(t) for t in x_train_titles]\n",
    "tf_train_titles = tf_vectorizer_train_titles.fit_transform(train_titles)\n",
    "vocabulary_titles = tf_vectorizer_train_titles.get_feature_names()"
   ]
  },
  {
   "cell_type": "code",
   "execution_count": 9,
   "metadata": {},
   "outputs": [],
   "source": [
    "#Conjunto de validacion\n",
    "tf_vectorizer_val_titles = CountVectorizer(vocabulary = vocabulary_titles)\n",
    "val_titles = [' '.join(t) for t in x_val_titles]\n",
    "tf_val_titles = tf_vectorizer_val_titles.fit_transform(val_titles)"
   ]
  },
  {
   "cell_type": "code",
   "execution_count": 10,
   "metadata": {},
   "outputs": [],
   "source": [
    "#Conjunto de testeo\n",
    "tf_vectorizer_test_titles = CountVectorizer(vocabulary = vocabulary_titles)\n",
    "test_titles2 = [' '.join(t) for t in test_titles]\n",
    "tf_test_titles = tf_vectorizer_test_titles.fit_transform(test_titles2)"
   ]
  },
  {
   "cell_type": "markdown",
   "metadata": {},
   "source": [
    "### Cuerpos"
   ]
  },
  {
   "cell_type": "code",
   "execution_count": 11,
   "metadata": {},
   "outputs": [],
   "source": [
    "#Conjunto de entrenamiento\n",
    "tf_vectorizer_train_body = CountVectorizer()\n",
    "train_body = [' '.join(t) for t in x_train_body]\n",
    "tf_train_body = tf_vectorizer_train_body.fit_transform(train_body)\n",
    "vocabulary_body = tf_vectorizer_train_body.get_feature_names()"
   ]
  },
  {
   "cell_type": "code",
   "execution_count": 12,
   "metadata": {},
   "outputs": [],
   "source": [
    "#Conjunto de validacion\n",
    "tf_vectorizer_val_body = CountVectorizer(vocabulary = vocabulary_body)\n",
    "val_body = [' '.join(t) for t in x_val_body]\n",
    "tf_val_body = tf_vectorizer_val_body.fit_transform(val_body)"
   ]
  },
  {
   "cell_type": "code",
   "execution_count": 13,
   "metadata": {},
   "outputs": [],
   "source": [
    "#Conjunto de testeo\n",
    "tf_vectorizer_test_body = CountVectorizer(vocabulary = vocabulary_body)\n",
    "test_body2 = [' '.join(t) for t in test_body]\n",
    "tf_test_body = tf_vectorizer_val_body.fit_transform(test_body2)"
   ]
  },
  {
   "cell_type": "markdown",
   "metadata": {},
   "source": [
    "## Naive Bayes Multinomial"
   ]
  },
  {
   "cell_type": "markdown",
   "metadata": {},
   "source": [
    "### Titulos"
   ]
  },
  {
   "cell_type": "code",
   "execution_count": 93,
   "metadata": {},
   "outputs": [
    {
     "data": {
      "text/plain": [
       "MultinomialNB(alpha=1.0, class_prior=None, fit_prior=True)"
      ]
     },
     "execution_count": 93,
     "metadata": {},
     "output_type": "execute_result"
    }
   ],
   "source": [
    "#Entrenamiento naive-bayes multinomial\n",
    "naiveBayes_titles = MultinomialNB()\n",
    "naiveBayes_titles.fit(tf_train_titles, y_train_titles)"
   ]
  },
  {
   "cell_type": "code",
   "execution_count": 97,
   "metadata": {},
   "outputs": [],
   "source": [
    "#Prediccion\n",
    "predict_naive_titles = naiveBayes_titles.predict(tf_val_titles)\n",
    "test_naive_titles = naiveBayes_titles.predict(tf_test_titles)"
   ]
  },
  {
   "cell_type": "markdown",
   "metadata": {},
   "source": [
    "#### Scores"
   ]
  },
  {
   "cell_type": "markdown",
   "metadata": {},
   "source": [
    "##### Validación"
   ]
  },
  {
   "cell_type": "code",
   "execution_count": 98,
   "metadata": {},
   "outputs": [
    {
     "data": {
      "text/plain": [
       "0.8853154267538434"
      ]
     },
     "execution_count": 98,
     "metadata": {},
     "output_type": "execute_result"
    }
   ],
   "source": [
    "accuracy_score(y_val_titles,predict_naive_titles)"
   ]
  },
  {
   "cell_type": "code",
   "execution_count": 99,
   "metadata": {},
   "outputs": [
    {
     "data": {
      "text/plain": [
       "0.7670461104953114"
      ]
     },
     "execution_count": 99,
     "metadata": {},
     "output_type": "execute_result"
    }
   ],
   "source": [
    "matthews_corrcoef(y_val_titles,predict_naive_titles)"
   ]
  },
  {
   "cell_type": "markdown",
   "metadata": {},
   "source": [
    "##### Testeo"
   ]
  },
  {
   "cell_type": "code",
   "execution_count": 100,
   "metadata": {},
   "outputs": [
    {
     "data": {
      "text/plain": [
       "0.6673373574782026"
      ]
     },
     "execution_count": 100,
     "metadata": {},
     "output_type": "execute_result"
    }
   ],
   "source": [
    "accuracy_score(test_clases,test_naive_titles)"
   ]
  },
  {
   "cell_type": "code",
   "execution_count": 101,
   "metadata": {},
   "outputs": [
    {
     "data": {
      "text/plain": [
       "0.3375633263171606"
      ]
     },
     "execution_count": 101,
     "metadata": {},
     "output_type": "execute_result"
    }
   ],
   "source": [
    "matthews_corrcoef(test_clases,test_naive_titles)"
   ]
  },
  {
   "cell_type": "markdown",
   "metadata": {},
   "source": [
    "### Cuerpos"
   ]
  },
  {
   "cell_type": "code",
   "execution_count": 102,
   "metadata": {},
   "outputs": [
    {
     "data": {
      "text/plain": [
       "MultinomialNB(alpha=1.0, class_prior=None, fit_prior=True)"
      ]
     },
     "execution_count": 102,
     "metadata": {},
     "output_type": "execute_result"
    }
   ],
   "source": [
    "#Entrenamiento naive-bayes multinomial\n",
    "naiveBayes_body = MultinomialNB()\n",
    "naiveBayes_body.fit(tf_train_body, y_train_body)"
   ]
  },
  {
   "cell_type": "code",
   "execution_count": 103,
   "metadata": {},
   "outputs": [],
   "source": [
    "#Prediccion\n",
    "predict_naive_body = naiveBayes_body.predict(tf_val_body)\n",
    "test_naive_body = naiveBayes_body.predict(tf_test_body)"
   ]
  },
  {
   "cell_type": "markdown",
   "metadata": {},
   "source": [
    "#### Scores"
   ]
  },
  {
   "cell_type": "markdown",
   "metadata": {},
   "source": [
    "##### Validación"
   ]
  },
  {
   "cell_type": "code",
   "execution_count": 104,
   "metadata": {},
   "outputs": [
    {
     "data": {
      "text/plain": [
       "0.9448665842021559"
      ]
     },
     "execution_count": 104,
     "metadata": {},
     "output_type": "execute_result"
    }
   ],
   "source": [
    "accuracy_score(y_val_body,predict_naive_body)"
   ]
  },
  {
   "cell_type": "code",
   "execution_count": 105,
   "metadata": {},
   "outputs": [
    {
     "data": {
      "text/plain": [
       "0.8879957918287289"
      ]
     },
     "execution_count": 105,
     "metadata": {},
     "output_type": "execute_result"
    }
   ],
   "source": [
    "matthews_corrcoef(y_val_body,predict_naive_body)"
   ]
  },
  {
   "cell_type": "markdown",
   "metadata": {},
   "source": [
    "##### Testeo"
   ]
  },
  {
   "cell_type": "code",
   "execution_count": 106,
   "metadata": {},
   "outputs": [
    {
     "data": {
      "text/plain": [
       "0.7991281019450034"
      ]
     },
     "execution_count": 106,
     "metadata": {},
     "output_type": "execute_result"
    }
   ],
   "source": [
    "accuracy_score(test_clases,test_naive_body)"
   ]
  },
  {
   "cell_type": "code",
   "execution_count": 107,
   "metadata": {},
   "outputs": [
    {
     "data": {
      "text/plain": [
       "0.5967048934638941"
      ]
     },
     "execution_count": 107,
     "metadata": {},
     "output_type": "execute_result"
    }
   ],
   "source": [
    "matthews_corrcoef(test_clases,test_naive_body)"
   ]
  },
  {
   "cell_type": "markdown",
   "metadata": {},
   "source": [
    "# TF-IDF"
   ]
  },
  {
   "cell_type": "markdown",
   "metadata": {},
   "source": [
    "### Titulos"
   ]
  },
  {
   "cell_type": "code",
   "execution_count": 14,
   "metadata": {},
   "outputs": [],
   "source": [
    "#Conjunto de entrenamiento\n",
    "tfIdf_vectorizer_train_titles = TfidfVectorizer()\n",
    "tfIdf_vectorizer_train_titles.fit(train_titles)\n",
    "tfIdf_train_titles = tfIdf_vectorizer_train_titles.transform(train_titles)\n",
    "#tfIdf_train_titles = tfIdf_vectorizer_train_titles.fit_transform(train_titles)\n",
    "#vocabulary_titles = tfIdf_vectorizer_train_titles.get_feature_names()"
   ]
  },
  {
   "cell_type": "code",
   "execution_count": 15,
   "metadata": {},
   "outputs": [],
   "source": [
    "#Conjunto de validacion\n",
    "#tfIdf_vectorizer_val_titles = TfidfVectorizer(vocabulary = vocabulary_titles)\n",
    "#tfIdf_val_titles = tfIdf_vectorizer_val_titles.fit_transform(val_titles)\n",
    "tfIdf_val_titles = tfIdf_vectorizer_train_titles.transform(val_titles)"
   ]
  },
  {
   "cell_type": "code",
   "execution_count": 16,
   "metadata": {},
   "outputs": [],
   "source": [
    "#Conjunto de testeo\n",
    "#tfIdf_vectorizer_test_titles = TfidfVectorizer(vocabulary = vocabulary_titles)\n",
    "#tfIdf_test_titles = tfIdf_vectorizer_test_titles.fit_transform(test_titles2)\n",
    "tfIdf_test_titles = tfIdf_vectorizer_train_titles.transform(test_titles2)"
   ]
  },
  {
   "cell_type": "markdown",
   "metadata": {},
   "source": [
    "### Cuerpos"
   ]
  },
  {
   "cell_type": "code",
   "execution_count": 17,
   "metadata": {},
   "outputs": [],
   "source": [
    "#Conjunto de entrenamiento\n",
    "tfIdf_vectorizer_train_body = TfidfVectorizer()\n",
    "tfIdf_vectorizer_train_body.fit(train_body)\n",
    "tfIdf_train_body = tfIdf_vectorizer_train_body.transform(train_body)\n",
    "#tfIdf_train_body = tfIdf_vectorizer_train_body.fit_transform(train_body)\n",
    "#vocabulary_body = tfIdf_vectorizer_train_body.get_feature_names()"
   ]
  },
  {
   "cell_type": "code",
   "execution_count": 18,
   "metadata": {},
   "outputs": [],
   "source": [
    "#Conjunto de validacion\n",
    "tfIdf_val_body = tfIdf_vectorizer_train_body.transform(val_body)\n",
    "#tfIdf_vectorizer_val_body = TfidfVectorizer(vocabulary = vocabulary_body)\n",
    "#tfIdf_val_body = tfIdf_vectorizer_val_body.fit_transform(val_body)"
   ]
  },
  {
   "cell_type": "code",
   "execution_count": 19,
   "metadata": {},
   "outputs": [],
   "source": [
    "#Conjunto de testeo\n",
    "tfIdf_test_body = tfIdf_vectorizer_train_body.transform(test_body2)\n",
    "#tfIdf_vectorizer_test_body = TfidfVectorizer(vocabulary = vocabulary_body)\n",
    "#tfIdf_test_body = tfIdf_vectorizer_test_body.fit_transform(test_body2)"
   ]
  },
  {
   "cell_type": "markdown",
   "metadata": {},
   "source": [
    "## Regresion Logistica"
   ]
  },
  {
   "cell_type": "markdown",
   "metadata": {},
   "source": [
    "### Titulos"
   ]
  },
  {
   "cell_type": "code",
   "execution_count": 17,
   "metadata": {},
   "outputs": [],
   "source": [
    "#Entrenamiento\n",
    "logi_regression_titles = LogisticRegression(random_state=0).fit(tfIdf_train_titles, y_train_titles)"
   ]
  },
  {
   "cell_type": "code",
   "execution_count": 18,
   "metadata": {},
   "outputs": [],
   "source": [
    "#Prediccion\n",
    "predict_logi_reg_titles = logi_regression_titles.predict(tfIdf_val_titles)\n",
    "test_logi_reg_titles = logi_regression_titles.predict(tfIdf_test_titles)"
   ]
  },
  {
   "cell_type": "markdown",
   "metadata": {},
   "source": [
    "#### Scores"
   ]
  },
  {
   "cell_type": "markdown",
   "metadata": {},
   "source": [
    "##### Validacion"
   ]
  },
  {
   "cell_type": "code",
   "execution_count": 19,
   "metadata": {},
   "outputs": [
    {
     "data": {
      "text/plain": [
       "0.8877893620781057"
      ]
     },
     "execution_count": 19,
     "metadata": {},
     "output_type": "execute_result"
    }
   ],
   "source": [
    "accuracy_score(y_val_titles,predict_logi_reg_titles)"
   ]
  },
  {
   "cell_type": "code",
   "execution_count": 20,
   "metadata": {},
   "outputs": [
    {
     "data": {
      "text/plain": [
       "0.7722529468003521"
      ]
     },
     "execution_count": 20,
     "metadata": {},
     "output_type": "execute_result"
    }
   ],
   "source": [
    "matthews_corrcoef(y_val_titles,predict_logi_reg_titles)"
   ]
  },
  {
   "cell_type": "markdown",
   "metadata": {},
   "source": [
    "##### Testeo"
   ]
  },
  {
   "cell_type": "code",
   "execution_count": 21,
   "metadata": {
    "scrolled": true
   },
   "outputs": [
    {
     "data": {
      "text/plain": [
       "0.6743796109993293"
      ]
     },
     "execution_count": 21,
     "metadata": {},
     "output_type": "execute_result"
    }
   ],
   "source": [
    "accuracy_score(test_clases,test_logi_reg_titles)"
   ]
  },
  {
   "cell_type": "code",
   "execution_count": 22,
   "metadata": {},
   "outputs": [
    {
     "data": {
      "text/plain": [
       "0.3405655321862309"
      ]
     },
     "execution_count": 22,
     "metadata": {},
     "output_type": "execute_result"
    }
   ],
   "source": [
    "matthews_corrcoef(test_clases,test_logi_reg_titles)"
   ]
  },
  {
   "cell_type": "markdown",
   "metadata": {},
   "source": [
    "### Cuerpos"
   ]
  },
  {
   "cell_type": "code",
   "execution_count": 38,
   "metadata": {},
   "outputs": [],
   "source": [
    "#Entrenamiento\n",
    "logi_regression_body = LogisticRegression(random_state=0).fit(tfIdf_train_body, y_train_body)"
   ]
  },
  {
   "cell_type": "code",
   "execution_count": 39,
   "metadata": {},
   "outputs": [],
   "source": [
    "#Prediccion\n",
    "predict_logi_reg_body = logi_regression_body.predict(tfIdf_val_body)\n",
    "test_logi_reg_body = logi_regression_body.predict(tfIdf_test_body)"
   ]
  },
  {
   "cell_type": "markdown",
   "metadata": {},
   "source": [
    "#### Scores"
   ]
  },
  {
   "cell_type": "markdown",
   "metadata": {},
   "source": [
    "##### Validacion"
   ]
  },
  {
   "cell_type": "code",
   "execution_count": 40,
   "metadata": {},
   "outputs": [
    {
     "data": {
      "text/plain": [
       "0.9756140660894151"
      ]
     },
     "execution_count": 40,
     "metadata": {},
     "output_type": "execute_result"
    }
   ],
   "source": [
    "accuracy_score(y_val_body,predict_logi_reg_body)"
   ]
  },
  {
   "cell_type": "code",
   "execution_count": 41,
   "metadata": {},
   "outputs": [
    {
     "data": {
      "text/plain": [
       "0.9505470839197147"
      ]
     },
     "execution_count": 41,
     "metadata": {},
     "output_type": "execute_result"
    }
   ],
   "source": [
    "matthews_corrcoef(y_val_body,predict_logi_reg_body)"
   ]
  },
  {
   "cell_type": "markdown",
   "metadata": {},
   "source": [
    "##### Testeo"
   ]
  },
  {
   "cell_type": "code",
   "execution_count": 42,
   "metadata": {},
   "outputs": [
    {
     "data": {
      "text/plain": [
       "0.8903420523138833"
      ]
     },
     "execution_count": 42,
     "metadata": {},
     "output_type": "execute_result"
    }
   ],
   "source": [
    "accuracy_score(test_clases,test_logi_reg_body)"
   ]
  },
  {
   "cell_type": "code",
   "execution_count": 43,
   "metadata": {},
   "outputs": [
    {
     "data": {
      "text/plain": [
       "0.7811349439652602"
      ]
     },
     "execution_count": 43,
     "metadata": {},
     "output_type": "execute_result"
    }
   ],
   "source": [
    "matthews_corrcoef(test_clases,test_logi_reg_body)"
   ]
  },
  {
   "cell_type": "markdown",
   "metadata": {},
   "source": [
    "## SVM"
   ]
  },
  {
   "cell_type": "markdown",
   "metadata": {},
   "source": [
    "### Titulos C=0.01 lineal"
   ]
  },
  {
   "cell_type": "code",
   "execution_count": 127,
   "metadata": {},
   "outputs": [
    {
     "data": {
      "text/plain": [
       "SVC(C=0.01, cache_size=200, class_weight=None, coef0=0.0,\n",
       "  decision_function_shape='ovr', degree=3, gamma='auto', kernel='linear',\n",
       "  max_iter=-1, probability=False, random_state=None, shrinking=True,\n",
       "  tol=0.001, verbose=False)"
      ]
     },
     "execution_count": 127,
     "metadata": {},
     "output_type": "execute_result"
    }
   ],
   "source": [
    "#Entrenamiento\n",
    "svm_titles = SVC(C=0.01, kernel = 'linear')\n",
    "svm_titles.fit(tfIdf_train_titles, y_train_titles)"
   ]
  },
  {
   "cell_type": "code",
   "execution_count": 128,
   "metadata": {},
   "outputs": [],
   "source": [
    "#Prediccion\n",
    "predict_svm_titles = svm_titles.predict(tfIdf_val_titles)"
   ]
  },
  {
   "cell_type": "code",
   "execution_count": 131,
   "metadata": {},
   "outputs": [],
   "source": [
    "test_svm_titles = svm_titles.predict(tfIdf_test_titles)"
   ]
  },
  {
   "cell_type": "markdown",
   "metadata": {},
   "source": [
    "#### Scores"
   ]
  },
  {
   "cell_type": "markdown",
   "metadata": {},
   "source": [
    "##### Validación"
   ]
  },
  {
   "cell_type": "code",
   "execution_count": 129,
   "metadata": {},
   "outputs": [
    {
     "data": {
      "text/plain": [
       "0.5796077045414384"
      ]
     },
     "execution_count": 129,
     "metadata": {},
     "output_type": "execute_result"
    }
   ],
   "source": [
    "accuracy_score(y_val_titles,predict_svm_titles)"
   ]
  },
  {
   "cell_type": "code",
   "execution_count": 130,
   "metadata": {},
   "outputs": [
    {
     "data": {
      "text/plain": [
       "0.15076874456637052"
      ]
     },
     "execution_count": 130,
     "metadata": {},
     "output_type": "execute_result"
    }
   ],
   "source": [
    "matthews_corrcoef(y_val_titles,predict_svm_titles)"
   ]
  },
  {
   "cell_type": "markdown",
   "metadata": {},
   "source": [
    "##### Testeo"
   ]
  },
  {
   "cell_type": "code",
   "execution_count": 132,
   "metadata": {},
   "outputs": [
    {
     "data": {
      "text/plain": [
       "0.5482897384305835"
      ]
     },
     "execution_count": 132,
     "metadata": {},
     "output_type": "execute_result"
    }
   ],
   "source": [
    "accuracy_score(test_clases,test_svm_titles)"
   ]
  },
  {
   "cell_type": "code",
   "execution_count": 133,
   "metadata": {
    "scrolled": true
   },
   "outputs": [
    {
     "data": {
      "text/plain": [
       "0.044876319948642336"
      ]
     },
     "execution_count": 133,
     "metadata": {},
     "output_type": "execute_result"
    }
   ],
   "source": [
    "matthews_corrcoef(test_clases,test_svm_titles)"
   ]
  },
  {
   "cell_type": "markdown",
   "metadata": {},
   "source": [
    "### Titulos C=0.1 lineal"
   ]
  },
  {
   "cell_type": "code",
   "execution_count": 134,
   "metadata": {},
   "outputs": [
    {
     "data": {
      "text/plain": [
       "SVC(C=0.1, cache_size=200, class_weight=None, coef0=0.0,\n",
       "  decision_function_shape='ovr', degree=3, gamma='auto', kernel='linear',\n",
       "  max_iter=-1, probability=False, random_state=None, shrinking=True,\n",
       "  tol=0.001, verbose=False)"
      ]
     },
     "execution_count": 134,
     "metadata": {},
     "output_type": "execute_result"
    }
   ],
   "source": [
    "#Entrenamiento\n",
    "svm_titles = SVC(C=0.1, kernel = 'linear')\n",
    "svm_titles.fit(tfIdf_train_titles, y_train_titles)"
   ]
  },
  {
   "cell_type": "code",
   "execution_count": 135,
   "metadata": {},
   "outputs": [],
   "source": [
    "#Prediccion\n",
    "predict_svm_titles = svm_titles.predict(tfIdf_val_titles)\n",
    "test_svm_titles = svm_titles.predict(tfIdf_test_titles)"
   ]
  },
  {
   "cell_type": "markdown",
   "metadata": {},
   "source": [
    "#### Scores"
   ]
  },
  {
   "cell_type": "markdown",
   "metadata": {},
   "source": [
    "##### Validación"
   ]
  },
  {
   "cell_type": "code",
   "execution_count": 136,
   "metadata": {},
   "outputs": [
    {
     "data": {
      "text/plain": [
       "0.8630500088354833"
      ]
     },
     "execution_count": 136,
     "metadata": {},
     "output_type": "execute_result"
    }
   ],
   "source": [
    "accuracy_score(y_val_titles,predict_svm_titles)"
   ]
  },
  {
   "cell_type": "code",
   "execution_count": 137,
   "metadata": {},
   "outputs": [
    {
     "data": {
      "text/plain": [
       "0.7265886460089661"
      ]
     },
     "execution_count": 137,
     "metadata": {},
     "output_type": "execute_result"
    }
   ],
   "source": [
    "matthews_corrcoef(y_val_titles,predict_svm_titles)"
   ]
  },
  {
   "cell_type": "markdown",
   "metadata": {},
   "source": [
    "##### Testeo"
   ]
  },
  {
   "cell_type": "code",
   "execution_count": 138,
   "metadata": {},
   "outputs": [
    {
     "data": {
      "text/plain": [
       "0.6609657947686117"
      ]
     },
     "execution_count": 138,
     "metadata": {},
     "output_type": "execute_result"
    }
   ],
   "source": [
    "accuracy_score(test_clases,test_svm_titles)"
   ]
  },
  {
   "cell_type": "code",
   "execution_count": 139,
   "metadata": {},
   "outputs": [
    {
     "data": {
      "text/plain": [
       "0.3111774610878876"
      ]
     },
     "execution_count": 139,
     "metadata": {},
     "output_type": "execute_result"
    }
   ],
   "source": [
    "matthews_corrcoef(test_clases,test_svm_titles)"
   ]
  },
  {
   "cell_type": "markdown",
   "metadata": {},
   "source": [
    "### Titulos C=1 lineal"
   ]
  },
  {
   "cell_type": "code",
   "execution_count": 23,
   "metadata": {},
   "outputs": [
    {
     "data": {
      "text/plain": [
       "SVC(C=1, cache_size=200, class_weight=None, coef0=0.0,\n",
       "  decision_function_shape='ovr', degree=3, gamma='auto', kernel='linear',\n",
       "  max_iter=-1, probability=False, random_state=None, shrinking=True,\n",
       "  tol=0.001, verbose=False)"
      ]
     },
     "execution_count": 23,
     "metadata": {},
     "output_type": "execute_result"
    }
   ],
   "source": [
    "#Entrenamiento\n",
    "svm_titles = SVC(C=1, kernel = 'linear')\n",
    "svm_titles.fit(tfIdf_train_titles, y_train_titles)"
   ]
  },
  {
   "cell_type": "code",
   "execution_count": 24,
   "metadata": {},
   "outputs": [],
   "source": [
    "#Prediccion\n",
    "predict_svm_titles = svm_titles.predict(tfIdf_val_titles)\n",
    "test_svm_titles = svm_titles.predict(tfIdf_test_titles)"
   ]
  },
  {
   "cell_type": "markdown",
   "metadata": {},
   "source": [
    "#### Scores"
   ]
  },
  {
   "cell_type": "markdown",
   "metadata": {},
   "source": [
    "##### Validación"
   ]
  },
  {
   "cell_type": "code",
   "execution_count": 25,
   "metadata": {},
   "outputs": [
    {
     "data": {
      "text/plain": [
       "0.8922071037285739"
      ]
     },
     "execution_count": 25,
     "metadata": {},
     "output_type": "execute_result"
    }
   ],
   "source": [
    "accuracy_score(y_val_titles,predict_svm_titles)"
   ]
  },
  {
   "cell_type": "code",
   "execution_count": 26,
   "metadata": {},
   "outputs": [
    {
     "data": {
      "text/plain": [
       "0.7805851890266561"
      ]
     },
     "execution_count": 26,
     "metadata": {},
     "output_type": "execute_result"
    }
   ],
   "source": [
    "matthews_corrcoef(y_val_titles,predict_svm_titles)"
   ]
  },
  {
   "cell_type": "markdown",
   "metadata": {},
   "source": [
    "##### Testeo"
   ]
  },
  {
   "cell_type": "code",
   "execution_count": 27,
   "metadata": {},
   "outputs": [
    {
     "data": {
      "text/plain": [
       "0.6797451374916164"
      ]
     },
     "execution_count": 27,
     "metadata": {},
     "output_type": "execute_result"
    }
   ],
   "source": [
    "accuracy_score(test_clases,test_svm_titles)"
   ]
  },
  {
   "cell_type": "code",
   "execution_count": 28,
   "metadata": {},
   "outputs": [
    {
     "data": {
      "text/plain": [
       "0.35439189245483416"
      ]
     },
     "execution_count": 28,
     "metadata": {},
     "output_type": "execute_result"
    }
   ],
   "source": [
    "matthews_corrcoef(test_clases,test_svm_titles)"
   ]
  },
  {
   "cell_type": "markdown",
   "metadata": {},
   "source": [
    "### Titulos C=10 lineal"
   ]
  },
  {
   "cell_type": "code",
   "execution_count": 146,
   "metadata": {},
   "outputs": [
    {
     "data": {
      "text/plain": [
       "SVC(C=10, cache_size=200, class_weight=None, coef0=0.0,\n",
       "  decision_function_shape='ovr', degree=3, gamma='auto', kernel='linear',\n",
       "  max_iter=-1, probability=False, random_state=None, shrinking=True,\n",
       "  tol=0.001, verbose=False)"
      ]
     },
     "execution_count": 146,
     "metadata": {},
     "output_type": "execute_result"
    }
   ],
   "source": [
    "#Entrenamiento\n",
    "svm_titles = SVC(C=10, kernel = 'linear')\n",
    "svm_titles.fit(tfIdf_train_titles, y_train_titles)"
   ]
  },
  {
   "cell_type": "code",
   "execution_count": 147,
   "metadata": {},
   "outputs": [],
   "source": [
    "#Prediccion\n",
    "predict_svm_titles = svm_titles.predict(tfIdf_val_titles)\n",
    "test_svm_titles = svm_titles.predict(tfIdf_test_titles)"
   ]
  },
  {
   "cell_type": "markdown",
   "metadata": {},
   "source": [
    "#### Scores"
   ]
  },
  {
   "cell_type": "markdown",
   "metadata": {},
   "source": [
    "##### Validación"
   ]
  },
  {
   "cell_type": "code",
   "execution_count": 148,
   "metadata": {},
   "outputs": [
    {
     "data": {
      "text/plain": [
       "0.8787771691111503"
      ]
     },
     "execution_count": 148,
     "metadata": {},
     "output_type": "execute_result"
    }
   ],
   "source": [
    "accuracy_score(y_val_titles,predict_svm_titles)"
   ]
  },
  {
   "cell_type": "code",
   "execution_count": 149,
   "metadata": {},
   "outputs": [
    {
     "data": {
      "text/plain": [
       "0.7536916201821214"
      ]
     },
     "execution_count": 149,
     "metadata": {},
     "output_type": "execute_result"
    }
   ],
   "source": [
    "matthews_corrcoef(y_val_titles,predict_svm_titles)"
   ]
  },
  {
   "cell_type": "markdown",
   "metadata": {},
   "source": [
    "##### Testeo"
   ]
  },
  {
   "cell_type": "code",
   "execution_count": 150,
   "metadata": {},
   "outputs": [
    {
     "data": {
      "text/plain": [
       "0.670355466130114"
      ]
     },
     "execution_count": 150,
     "metadata": {},
     "output_type": "execute_result"
    }
   ],
   "source": [
    "accuracy_score(test_clases,test_svm_titles)"
   ]
  },
  {
   "cell_type": "code",
   "execution_count": 151,
   "metadata": {},
   "outputs": [
    {
     "data": {
      "text/plain": [
       "0.3381443032915019"
      ]
     },
     "execution_count": 151,
     "metadata": {},
     "output_type": "execute_result"
    }
   ],
   "source": [
    "matthews_corrcoef(test_clases,test_svm_titles)"
   ]
  },
  {
   "cell_type": "markdown",
   "metadata": {},
   "source": [
    "### Titulos C=0.1 RBF $\\gamma=0.1$"
   ]
  },
  {
   "cell_type": "code",
   "execution_count": 166,
   "metadata": {},
   "outputs": [
    {
     "data": {
      "text/plain": [
       "SVC(C=0.1, cache_size=200, class_weight=None, coef0=0.0,\n",
       "  decision_function_shape='ovr', degree=3, gamma=0.1, kernel='rbf',\n",
       "  max_iter=-1, probability=False, random_state=None, shrinking=True,\n",
       "  tol=0.001, verbose=False)"
      ]
     },
     "execution_count": 166,
     "metadata": {},
     "output_type": "execute_result"
    }
   ],
   "source": [
    "#Entrenamiento\n",
    "svm_titles = SVC(C=0.1, kernel = 'rbf', gamma = 0.1)\n",
    "svm_titles.fit(tfIdf_train_titles, y_train_titles)"
   ]
  },
  {
   "cell_type": "code",
   "execution_count": 167,
   "metadata": {},
   "outputs": [],
   "source": [
    "#Prediccion\n",
    "predict_svm_titles = svm_titles.predict(tfIdf_val_titles)\n",
    "test_svm_titles = svm_titles.predict(tfIdf_test_titles)"
   ]
  },
  {
   "cell_type": "markdown",
   "metadata": {},
   "source": [
    "#### Scores"
   ]
  },
  {
   "cell_type": "markdown",
   "metadata": {},
   "source": [
    "#### Validación"
   ]
  },
  {
   "cell_type": "code",
   "execution_count": 168,
   "metadata": {},
   "outputs": [
    {
     "data": {
      "text/plain": [
       "0.6704364728750662"
      ]
     },
     "execution_count": 168,
     "metadata": {},
     "output_type": "execute_result"
    }
   ],
   "source": [
    "accuracy_score(y_val_titles,predict_svm_titles)"
   ]
  },
  {
   "cell_type": "code",
   "execution_count": 169,
   "metadata": {},
   "outputs": [
    {
     "data": {
      "text/plain": [
       "0.3894319154127205"
      ]
     },
     "execution_count": 169,
     "metadata": {},
     "output_type": "execute_result"
    }
   ],
   "source": [
    "matthews_corrcoef(y_val_titles,predict_svm_titles)"
   ]
  },
  {
   "cell_type": "markdown",
   "metadata": {},
   "source": [
    "##### Testeo"
   ]
  },
  {
   "cell_type": "code",
   "execution_count": 170,
   "metadata": {},
   "outputs": [
    {
     "data": {
      "text/plain": [
       "0.5845070422535211"
      ]
     },
     "execution_count": 170,
     "metadata": {},
     "output_type": "execute_result"
    }
   ],
   "source": [
    "accuracy_score(test_clases,test_svm_titles)"
   ]
  },
  {
   "cell_type": "code",
   "execution_count": 171,
   "metadata": {},
   "outputs": [
    {
     "data": {
      "text/plain": [
       "0.17630372919364626"
      ]
     },
     "execution_count": 171,
     "metadata": {},
     "output_type": "execute_result"
    }
   ],
   "source": [
    "matthews_corrcoef(test_clases,test_svm_titles)"
   ]
  },
  {
   "cell_type": "markdown",
   "metadata": {},
   "source": [
    "### Titulos C=1 RBF $\\gamma=0.1$"
   ]
  },
  {
   "cell_type": "code",
   "execution_count": 172,
   "metadata": {},
   "outputs": [
    {
     "data": {
      "text/plain": [
       "SVC(C=1, cache_size=200, class_weight=None, coef0=0.0,\n",
       "  decision_function_shape='ovr', degree=3, gamma=0.1, kernel='rbf',\n",
       "  max_iter=-1, probability=False, random_state=None, shrinking=True,\n",
       "  tol=0.001, verbose=False)"
      ]
     },
     "execution_count": 172,
     "metadata": {},
     "output_type": "execute_result"
    }
   ],
   "source": [
    "#Entrenamiento\n",
    "svm_titles = SVC(C=1, kernel = 'rbf', gamma = 0.1)\n",
    "svm_titles.fit(tfIdf_train_titles, y_train_titles)"
   ]
  },
  {
   "cell_type": "code",
   "execution_count": 173,
   "metadata": {},
   "outputs": [],
   "source": [
    "#Prediccion\n",
    "predict_svm_titles = svm_titles.predict(tfIdf_val_titles)\n",
    "test_svm_titles = svm_titles.predict(tfIdf_test_titles)"
   ]
  },
  {
   "cell_type": "markdown",
   "metadata": {},
   "source": [
    "#### Scores"
   ]
  },
  {
   "cell_type": "markdown",
   "metadata": {},
   "source": [
    "##### Validación"
   ]
  },
  {
   "cell_type": "code",
   "execution_count": 174,
   "metadata": {},
   "outputs": [
    {
     "data": {
      "text/plain": [
       "0.875773104788832"
      ]
     },
     "execution_count": 174,
     "metadata": {},
     "output_type": "execute_result"
    }
   ],
   "source": [
    "accuracy_score(y_val_titles,predict_svm_titles)"
   ]
  },
  {
   "cell_type": "code",
   "execution_count": 175,
   "metadata": {},
   "outputs": [
    {
     "data": {
      "text/plain": [
       "0.749791623119107"
      ]
     },
     "execution_count": 175,
     "metadata": {},
     "output_type": "execute_result"
    }
   ],
   "source": [
    "matthews_corrcoef(y_val_titles,predict_svm_titles)"
   ]
  },
  {
   "cell_type": "markdown",
   "metadata": {},
   "source": [
    "##### Testeo"
   ]
  },
  {
   "cell_type": "code",
   "execution_count": 176,
   "metadata": {},
   "outputs": [
    {
     "data": {
      "text/plain": [
       "0.6670020120724346"
      ]
     },
     "execution_count": 176,
     "metadata": {},
     "output_type": "execute_result"
    }
   ],
   "source": [
    "accuracy_score(test_clases,test_svm_titles)"
   ]
  },
  {
   "cell_type": "code",
   "execution_count": 177,
   "metadata": {},
   "outputs": [
    {
     "data": {
      "text/plain": [
       "0.3231691896096057"
      ]
     },
     "execution_count": 177,
     "metadata": {},
     "output_type": "execute_result"
    }
   ],
   "source": [
    "matthews_corrcoef(test_clases,test_svm_titles)"
   ]
  },
  {
   "cell_type": "markdown",
   "metadata": {},
   "source": [
    "### Titulos C=10 RBF $\\gamma=0.1$"
   ]
  },
  {
   "cell_type": "code",
   "execution_count": 20,
   "metadata": {},
   "outputs": [
    {
     "data": {
      "text/plain": [
       "SVC(C=10, cache_size=200, class_weight=None, coef0=0.0,\n",
       "  decision_function_shape='ovr', degree=3, gamma=0.1, kernel='rbf',\n",
       "  max_iter=-1, probability=False, random_state=None, shrinking=True,\n",
       "  tol=0.001, verbose=False)"
      ]
     },
     "execution_count": 20,
     "metadata": {},
     "output_type": "execute_result"
    }
   ],
   "source": [
    "#Entrenamiento\n",
    "svm_titles = SVC(C=10, kernel = 'rbf', gamma = 0.1)\n",
    "svm_titles.fit(tfIdf_train_titles, y_train_titles)"
   ]
  },
  {
   "cell_type": "code",
   "execution_count": 21,
   "metadata": {},
   "outputs": [],
   "source": [
    "#Prediccion\n",
    "predict_svm_titles = svm_titles.predict(tfIdf_val_titles)\n",
    "test_svm_titles = svm_titles.predict(tfIdf_test_titles)"
   ]
  },
  {
   "cell_type": "markdown",
   "metadata": {},
   "source": [
    "#### Scores"
   ]
  },
  {
   "cell_type": "markdown",
   "metadata": {},
   "source": [
    "##### Validación"
   ]
  },
  {
   "cell_type": "code",
   "execution_count": 22,
   "metadata": {},
   "outputs": [
    {
     "data": {
      "text/plain": [
       "0.8937974907227425"
      ]
     },
     "execution_count": 22,
     "metadata": {},
     "output_type": "execute_result"
    }
   ],
   "source": [
    "accuracy_score(y_val_titles,predict_svm_titles)"
   ]
  },
  {
   "cell_type": "code",
   "execution_count": 23,
   "metadata": {},
   "outputs": [
    {
     "data": {
      "text/plain": [
       "0.7838872005559355"
      ]
     },
     "execution_count": 23,
     "metadata": {},
     "output_type": "execute_result"
    }
   ],
   "source": [
    "matthews_corrcoef(y_val_titles,predict_svm_titles)"
   ]
  },
  {
   "cell_type": "markdown",
   "metadata": {},
   "source": [
    "##### Testeo"
   ]
  },
  {
   "cell_type": "code",
   "execution_count": 24,
   "metadata": {},
   "outputs": [
    {
     "data": {
      "text/plain": [
       "0.6827632461435278"
      ]
     },
     "execution_count": 24,
     "metadata": {},
     "output_type": "execute_result"
    }
   ],
   "source": [
    "accuracy_score(test_clases,test_svm_titles)"
   ]
  },
  {
   "cell_type": "code",
   "execution_count": 25,
   "metadata": {},
   "outputs": [
    {
     "data": {
      "text/plain": [
       "0.3612409233367233"
      ]
     },
     "execution_count": 25,
     "metadata": {},
     "output_type": "execute_result"
    }
   ],
   "source": [
    "matthews_corrcoef(test_clases,test_svm_titles)"
   ]
  },
  {
   "cell_type": "markdown",
   "metadata": {},
   "source": [
    "### Titulos C=0.1  $\\gamma=1$"
   ]
  },
  {
   "cell_type": "code",
   "execution_count": 36,
   "metadata": {},
   "outputs": [
    {
     "data": {
      "text/plain": [
       "SVC(C=0.1, cache_size=200, class_weight=None, coef0=0.0,\n",
       "  decision_function_shape='ovr', degree=3, gamma=1, kernel='rbf',\n",
       "  max_iter=-1, probability=False, random_state=None, shrinking=True,\n",
       "  tol=0.001, verbose=False)"
      ]
     },
     "execution_count": 36,
     "metadata": {},
     "output_type": "execute_result"
    }
   ],
   "source": [
    "#Entrenamiento\n",
    "svm_titles = SVC(C=0.1, kernel = 'rbf', gamma = 1)\n",
    "svm_titles.fit(tfIdf_train_titles, y_train_titles)"
   ]
  },
  {
   "cell_type": "code",
   "execution_count": 37,
   "metadata": {},
   "outputs": [],
   "source": [
    "#Prediccion\n",
    "predict_svm_titles = svm_titles.predict(tfIdf_val_titles)\n",
    "test_svm_titles = svm_titles.predict(tfIdf_test_titles)"
   ]
  },
  {
   "cell_type": "markdown",
   "metadata": {},
   "source": [
    "#### Scores"
   ]
  },
  {
   "cell_type": "markdown",
   "metadata": {},
   "source": [
    "##### Validación"
   ]
  },
  {
   "cell_type": "code",
   "execution_count": 38,
   "metadata": {},
   "outputs": [
    {
     "data": {
      "text/plain": [
       "0.7943099487541968"
      ]
     },
     "execution_count": 38,
     "metadata": {},
     "output_type": "execute_result"
    }
   ],
   "source": [
    "accuracy_score(y_val_titles,predict_svm_titles)"
   ]
  },
  {
   "cell_type": "code",
   "execution_count": 39,
   "metadata": {},
   "outputs": [
    {
     "data": {
      "text/plain": [
       "0.6110257381155345"
      ]
     },
     "execution_count": 39,
     "metadata": {},
     "output_type": "execute_result"
    }
   ],
   "source": [
    "matthews_corrcoef(y_val_titles,predict_svm_titles)"
   ]
  },
  {
   "cell_type": "markdown",
   "metadata": {},
   "source": [
    "##### Testeo"
   ]
  },
  {
   "cell_type": "code",
   "execution_count": 40,
   "metadata": {},
   "outputs": [
    {
     "data": {
      "text/plain": [
       "0.6354795439302482"
      ]
     },
     "execution_count": 40,
     "metadata": {},
     "output_type": "execute_result"
    }
   ],
   "source": [
    "accuracy_score(test_clases,test_svm_titles)"
   ]
  },
  {
   "cell_type": "code",
   "execution_count": 41,
   "metadata": {},
   "outputs": [
    {
     "data": {
      "text/plain": [
       "0.27302080362674125"
      ]
     },
     "execution_count": 41,
     "metadata": {},
     "output_type": "execute_result"
    }
   ],
   "source": [
    "matthews_corrcoef(test_clases,test_svm_titles)"
   ]
  },
  {
   "cell_type": "markdown",
   "metadata": {},
   "source": [
    "### Titulos C=1 $\\gamma=1$"
   ]
  },
  {
   "cell_type": "code",
   "execution_count": 42,
   "metadata": {},
   "outputs": [
    {
     "data": {
      "text/plain": [
       "SVC(C=1, cache_size=200, class_weight=None, coef0=0.0,\n",
       "  decision_function_shape='ovr', degree=3, gamma=1, kernel='rbf',\n",
       "  max_iter=-1, probability=False, random_state=None, shrinking=True,\n",
       "  tol=0.001, verbose=False)"
      ]
     },
     "execution_count": 42,
     "metadata": {},
     "output_type": "execute_result"
    }
   ],
   "source": [
    "#Entrenamiento\n",
    "svm_titles = SVC(C=1, kernel = 'rbf', gamma = 1)\n",
    "svm_titles.fit(tfIdf_train_titles, y_train_titles)"
   ]
  },
  {
   "cell_type": "code",
   "execution_count": 43,
   "metadata": {},
   "outputs": [],
   "source": [
    "#Prediccion\n",
    "predict_svm_titles = svm_titles.predict(tfIdf_val_titles)\n",
    "test_svm_titles = svm_titles.predict(tfIdf_test_titles)"
   ]
  },
  {
   "cell_type": "markdown",
   "metadata": {},
   "source": [
    "#### Scores"
   ]
  },
  {
   "cell_type": "markdown",
   "metadata": {},
   "source": [
    "##### Validación"
   ]
  },
  {
   "cell_type": "code",
   "execution_count": 44,
   "metadata": {},
   "outputs": [
    {
     "data": {
      "text/plain": [
       "0.8975083937091359"
      ]
     },
     "execution_count": 44,
     "metadata": {},
     "output_type": "execute_result"
    }
   ],
   "source": [
    "accuracy_score(y_val_titles,predict_svm_titles)"
   ]
  },
  {
   "cell_type": "code",
   "execution_count": 45,
   "metadata": {},
   "outputs": [
    {
     "data": {
      "text/plain": [
       "0.7920348385382154"
      ]
     },
     "execution_count": 45,
     "metadata": {},
     "output_type": "execute_result"
    }
   ],
   "source": [
    "matthews_corrcoef(y_val_titles,predict_svm_titles)"
   ]
  },
  {
   "cell_type": "markdown",
   "metadata": {},
   "source": [
    "##### Testeo"
   ]
  },
  {
   "cell_type": "code",
   "execution_count": 46,
   "metadata": {},
   "outputs": [
    {
     "data": {
      "text/plain": [
       "0.6827632461435278"
      ]
     },
     "execution_count": 46,
     "metadata": {},
     "output_type": "execute_result"
    }
   ],
   "source": [
    "accuracy_score(test_clases,test_svm_titles)"
   ]
  },
  {
   "cell_type": "code",
   "execution_count": 47,
   "metadata": {},
   "outputs": [
    {
     "data": {
      "text/plain": [
       "0.3572532110153932"
      ]
     },
     "execution_count": 47,
     "metadata": {},
     "output_type": "execute_result"
    }
   ],
   "source": [
    "matthews_corrcoef(test_clases,test_svm_titles)"
   ]
  },
  {
   "cell_type": "markdown",
   "metadata": {},
   "source": [
    "### Titulos C=10 $\\gamma=1$"
   ]
  },
  {
   "cell_type": "code",
   "execution_count": 29,
   "metadata": {},
   "outputs": [
    {
     "data": {
      "text/plain": [
       "SVC(C=10, cache_size=200, class_weight=None, coef0=0.0,\n",
       "  decision_function_shape='ovr', degree=3, gamma=1, kernel='rbf',\n",
       "  max_iter=-1, probability=False, random_state=None, shrinking=True,\n",
       "  tol=0.001, verbose=False)"
      ]
     },
     "execution_count": 29,
     "metadata": {},
     "output_type": "execute_result"
    }
   ],
   "source": [
    "#Entrenamiento\n",
    "svm_titles = SVC(C=10, kernel = 'rbf', gamma = 1)\n",
    "svm_titles.fit(tfIdf_train_titles, y_train_titles)"
   ]
  },
  {
   "cell_type": "code",
   "execution_count": 30,
   "metadata": {},
   "outputs": [],
   "source": [
    "#Prediccion\n",
    "predict_svm_titles = svm_titles.predict(tfIdf_val_titles)\n",
    "test_svm_titles = svm_titles.predict(tfIdf_test_titles)"
   ]
  },
  {
   "cell_type": "markdown",
   "metadata": {},
   "source": [
    "#### Scores"
   ]
  },
  {
   "cell_type": "markdown",
   "metadata": {},
   "source": [
    "##### Validación"
   ]
  },
  {
   "cell_type": "code",
   "execution_count": 31,
   "metadata": {},
   "outputs": [
    {
     "data": {
      "text/plain": [
       "0.9056370383459975"
      ]
     },
     "execution_count": 31,
     "metadata": {},
     "output_type": "execute_result"
    }
   ],
   "source": [
    "accuracy_score(y_val_titles,predict_svm_titles)"
   ]
  },
  {
   "cell_type": "code",
   "execution_count": 32,
   "metadata": {},
   "outputs": [
    {
     "data": {
      "text/plain": [
       "0.808142164376149"
      ]
     },
     "execution_count": 32,
     "metadata": {},
     "output_type": "execute_result"
    }
   ],
   "source": [
    "matthews_corrcoef(y_val_titles,predict_svm_titles)"
   ]
  },
  {
   "cell_type": "markdown",
   "metadata": {},
   "source": [
    "##### Testeo"
   ]
  },
  {
   "cell_type": "code",
   "execution_count": 33,
   "metadata": {},
   "outputs": [
    {
     "data": {
      "text/plain": [
       "0.6824279007377599"
      ]
     },
     "execution_count": 33,
     "metadata": {},
     "output_type": "execute_result"
    }
   ],
   "source": [
    "accuracy_score(test_clases,test_svm_titles)"
   ]
  },
  {
   "cell_type": "code",
   "execution_count": 34,
   "metadata": {},
   "outputs": [
    {
     "data": {
      "text/plain": [
       "0.35898586011120065"
      ]
     },
     "execution_count": 34,
     "metadata": {},
     "output_type": "execute_result"
    }
   ],
   "source": [
    "matthews_corrcoef(test_clases,test_svm_titles)"
   ]
  },
  {
   "cell_type": "markdown",
   "metadata": {},
   "source": [
    "### Cuerpos C = 0.1 lineal"
   ]
  },
  {
   "cell_type": "code",
   "execution_count": 58,
   "metadata": {},
   "outputs": [
    {
     "data": {
      "text/plain": [
       "SVC(C=0.1, cache_size=200, class_weight=None, coef0=0.0,\n",
       "  decision_function_shape='ovr', degree=3, gamma='auto', kernel='linear',\n",
       "  max_iter=-1, probability=False, random_state=None, shrinking=True,\n",
       "  tol=0.001, verbose=False)"
      ]
     },
     "execution_count": 58,
     "metadata": {},
     "output_type": "execute_result"
    }
   ],
   "source": [
    "#Entrenamiento\n",
    "svm_body = SVC(C = 0.1, kernel = 'linear')\n",
    "svm_body.fit(tfIdf_train_body, y_train_body)"
   ]
  },
  {
   "cell_type": "code",
   "execution_count": 59,
   "metadata": {},
   "outputs": [],
   "source": [
    "#Prediccion\n",
    "predict_svm_body = svm_body.predict(tfIdf_val_body)\n",
    "test_svm_body = svm_body.predict(tfIdf_test_body)"
   ]
  },
  {
   "cell_type": "markdown",
   "metadata": {},
   "source": [
    "#### Scores"
   ]
  },
  {
   "cell_type": "markdown",
   "metadata": {},
   "source": [
    "##### Validacion"
   ]
  },
  {
   "cell_type": "code",
   "execution_count": 60,
   "metadata": {},
   "outputs": [
    {
     "data": {
      "text/plain": [
       "0.9703127761088531"
      ]
     },
     "execution_count": 60,
     "metadata": {},
     "output_type": "execute_result"
    }
   ],
   "source": [
    "accuracy_score(y_val_body,predict_svm_body)"
   ]
  },
  {
   "cell_type": "code",
   "execution_count": 61,
   "metadata": {},
   "outputs": [
    {
     "data": {
      "text/plain": [
       "0.9398897875442207"
      ]
     },
     "execution_count": 61,
     "metadata": {},
     "output_type": "execute_result"
    }
   ],
   "source": [
    "matthews_corrcoef(y_val_body,predict_svm_body)"
   ]
  },
  {
   "cell_type": "markdown",
   "metadata": {},
   "source": [
    "##### Testeo"
   ]
  },
  {
   "cell_type": "code",
   "execution_count": 63,
   "metadata": {},
   "outputs": [
    {
     "data": {
      "text/plain": [
       "0.8896713615023474"
      ]
     },
     "execution_count": 63,
     "metadata": {},
     "output_type": "execute_result"
    }
   ],
   "source": [
    "accuracy_score(test_clases,test_svm_body)"
   ]
  },
  {
   "cell_type": "code",
   "execution_count": 64,
   "metadata": {},
   "outputs": [
    {
     "data": {
      "text/plain": [
       "0.7802117106543682"
      ]
     },
     "execution_count": 64,
     "metadata": {},
     "output_type": "execute_result"
    }
   ],
   "source": [
    "matthews_corrcoef(test_clases,test_svm_body)"
   ]
  },
  {
   "cell_type": "markdown",
   "metadata": {},
   "source": [
    "### Cuerpos C=1 lineal"
   ]
  },
  {
   "cell_type": "code",
   "execution_count": 44,
   "metadata": {},
   "outputs": [
    {
     "data": {
      "text/plain": [
       "SVC(C=1, cache_size=200, class_weight=None, coef0=0.0,\n",
       "  decision_function_shape='ovr', degree=3, gamma='auto', kernel='linear',\n",
       "  max_iter=-1, probability=False, random_state=None, shrinking=True,\n",
       "  tol=0.001, verbose=False)"
      ]
     },
     "execution_count": 44,
     "metadata": {},
     "output_type": "execute_result"
    }
   ],
   "source": [
    "#Entrenamiento\n",
    "svm_body = SVC(C = 1, kernel = 'linear')\n",
    "svm_body.fit(tfIdf_train_body, y_train_body)"
   ]
  },
  {
   "cell_type": "code",
   "execution_count": 45,
   "metadata": {},
   "outputs": [],
   "source": [
    "#Prediccion\n",
    "predict_svm_body = svm_body.predict(tfIdf_val_body)\n",
    "test_svm_body = svm_body.predict(tfIdf_test_body)"
   ]
  },
  {
   "cell_type": "markdown",
   "metadata": {},
   "source": [
    "#### Scores"
   ]
  },
  {
   "cell_type": "markdown",
   "metadata": {},
   "source": [
    "##### Validacion"
   ]
  },
  {
   "cell_type": "code",
   "execution_count": 46,
   "metadata": {},
   "outputs": [
    {
     "data": {
      "text/plain": [
       "0.9796783884078459"
      ]
     },
     "execution_count": 46,
     "metadata": {},
     "output_type": "execute_result"
    }
   ],
   "source": [
    "accuracy_score(y_val_body,predict_svm_body)"
   ]
  },
  {
   "cell_type": "code",
   "execution_count": 47,
   "metadata": {},
   "outputs": [
    {
     "data": {
      "text/plain": [
       "0.9587259449537735"
      ]
     },
     "execution_count": 47,
     "metadata": {},
     "output_type": "execute_result"
    }
   ],
   "source": [
    "matthews_corrcoef(y_val_body,predict_svm_body)"
   ]
  },
  {
   "cell_type": "markdown",
   "metadata": {},
   "source": [
    "##### Testeo"
   ]
  },
  {
   "cell_type": "code",
   "execution_count": 48,
   "metadata": {},
   "outputs": [
    {
     "data": {
      "text/plain": [
       "0.8987256874580818"
      ]
     },
     "execution_count": 48,
     "metadata": {},
     "output_type": "execute_result"
    }
   ],
   "source": [
    "accuracy_score(test_clases,test_svm_body)"
   ]
  },
  {
   "cell_type": "code",
   "execution_count": 49,
   "metadata": {},
   "outputs": [
    {
     "data": {
      "text/plain": [
       "0.7956254501071899"
      ]
     },
     "execution_count": 49,
     "metadata": {},
     "output_type": "execute_result"
    }
   ],
   "source": [
    "matthews_corrcoef(test_clases,test_svm_body)"
   ]
  },
  {
   "cell_type": "markdown",
   "metadata": {},
   "source": [
    "### Cuerpos C=10 lineal"
   ]
  },
  {
   "cell_type": "code",
   "execution_count": 71,
   "metadata": {},
   "outputs": [
    {
     "data": {
      "text/plain": [
       "SVC(C=10, cache_size=200, class_weight=None, coef0=0.0,\n",
       "  decision_function_shape='ovr', degree=3, gamma='auto', kernel='linear',\n",
       "  max_iter=-1, probability=False, random_state=None, shrinking=True,\n",
       "  tol=0.001, verbose=False)"
      ]
     },
     "execution_count": 71,
     "metadata": {},
     "output_type": "execute_result"
    }
   ],
   "source": [
    "#Entrenamiento\n",
    "svm_body = SVC(C = 10, kernel = 'linear')\n",
    "svm_body.fit(tfIdf_train_body, y_train_body)"
   ]
  },
  {
   "cell_type": "code",
   "execution_count": 72,
   "metadata": {},
   "outputs": [],
   "source": [
    "#Prediccion\n",
    "predict_svm_body = svm_body.predict(tfIdf_val_body)\n",
    "test_svm_body = svm_body.predict(tfIdf_test_body)"
   ]
  },
  {
   "cell_type": "markdown",
   "metadata": {},
   "source": [
    "#### Scores"
   ]
  },
  {
   "cell_type": "markdown",
   "metadata": {},
   "source": [
    "##### Validacion"
   ]
  },
  {
   "cell_type": "code",
   "execution_count": 73,
   "metadata": {},
   "outputs": [
    {
     "data": {
      "text/plain": [
       "0.9786181304117335"
      ]
     },
     "execution_count": 73,
     "metadata": {},
     "output_type": "execute_result"
    }
   ],
   "source": [
    "accuracy_score(y_val_body,predict_svm_body)"
   ]
  },
  {
   "cell_type": "code",
   "execution_count": 74,
   "metadata": {},
   "outputs": [
    {
     "data": {
      "text/plain": [
       "0.9565560525201559"
      ]
     },
     "execution_count": 74,
     "metadata": {},
     "output_type": "execute_result"
    }
   ],
   "source": [
    "matthews_corrcoef(y_val_body,predict_svm_body)"
   ]
  },
  {
   "cell_type": "markdown",
   "metadata": {},
   "source": [
    "##### Testeo"
   ]
  },
  {
   "cell_type": "code",
   "execution_count": 75,
   "metadata": {},
   "outputs": [
    {
     "data": {
      "text/plain": [
       "0.8876592890677397"
      ]
     },
     "execution_count": 75,
     "metadata": {},
     "output_type": "execute_result"
    }
   ],
   "source": [
    "accuracy_score(test_clases,test_svm_body)"
   ]
  },
  {
   "cell_type": "code",
   "execution_count": 76,
   "metadata": {},
   "outputs": [
    {
     "data": {
      "text/plain": [
       "0.7737994146404837"
      ]
     },
     "execution_count": 76,
     "metadata": {},
     "output_type": "execute_result"
    }
   ],
   "source": [
    "matthews_corrcoef(test_clases,test_svm_body)"
   ]
  },
  {
   "cell_type": "markdown",
   "metadata": {},
   "source": [
    "### Cuerpos C=0.1 RBF $\\gamma=0.1$"
   ]
  },
  {
   "cell_type": "code",
   "execution_count": 77,
   "metadata": {},
   "outputs": [
    {
     "data": {
      "text/plain": [
       "SVC(C=0.1, cache_size=200, class_weight=None, coef0=0.0,\n",
       "  decision_function_shape='ovr', degree=3, gamma=0.1, kernel='rbf',\n",
       "  max_iter=-1, probability=False, random_state=None, shrinking=True,\n",
       "  tol=0.001, verbose=False)"
      ]
     },
     "execution_count": 77,
     "metadata": {},
     "output_type": "execute_result"
    }
   ],
   "source": [
    "#Entrenamiento\n",
    "svm_body = SVC(C = 0.1, kernel = 'rbf', gamma = 0.1)\n",
    "svm_body.fit(tfIdf_train_body, y_train_body)"
   ]
  },
  {
   "cell_type": "code",
   "execution_count": 78,
   "metadata": {},
   "outputs": [],
   "source": [
    "#Prediccion\n",
    "predict_svm_body = svm_body.predict(tfIdf_val_body)\n",
    "test_svm_body = svm_body.predict(tfIdf_test_body)"
   ]
  },
  {
   "cell_type": "markdown",
   "metadata": {},
   "source": [
    "#### Scores"
   ]
  },
  {
   "cell_type": "markdown",
   "metadata": {},
   "source": [
    "##### Validacion"
   ]
  },
  {
   "cell_type": "code",
   "execution_count": 79,
   "metadata": {},
   "outputs": [
    {
     "data": {
      "text/plain": [
       "0.9305531012546386"
      ]
     },
     "execution_count": 79,
     "metadata": {},
     "output_type": "execute_result"
    }
   ],
   "source": [
    "accuracy_score(y_val_body,predict_svm_body)"
   ]
  },
  {
   "cell_type": "code",
   "execution_count": 80,
   "metadata": {},
   "outputs": [
    {
     "data": {
      "text/plain": [
       "0.8630033250429896"
      ]
     },
     "execution_count": 80,
     "metadata": {},
     "output_type": "execute_result"
    }
   ],
   "source": [
    "matthews_corrcoef(y_val_body,predict_svm_body)"
   ]
  },
  {
   "cell_type": "markdown",
   "metadata": {},
   "source": [
    "##### Testeo"
   ]
  },
  {
   "cell_type": "code",
   "execution_count": 81,
   "metadata": {},
   "outputs": [
    {
     "data": {
      "text/plain": [
       "0.8343393695506371"
      ]
     },
     "execution_count": 81,
     "metadata": {},
     "output_type": "execute_result"
    }
   ],
   "source": [
    "accuracy_score(test_clases,test_svm_body)"
   ]
  },
  {
   "cell_type": "code",
   "execution_count": 82,
   "metadata": {},
   "outputs": [
    {
     "data": {
      "text/plain": [
       "0.6835995725564115"
      ]
     },
     "execution_count": 82,
     "metadata": {},
     "output_type": "execute_result"
    }
   ],
   "source": [
    "matthews_corrcoef(test_clases,test_svm_body)"
   ]
  },
  {
   "cell_type": "markdown",
   "metadata": {},
   "source": [
    "### Cuerpos C=1 RBF $\\gamma=0.1$"
   ]
  },
  {
   "cell_type": "code",
   "execution_count": 83,
   "metadata": {},
   "outputs": [
    {
     "data": {
      "text/plain": [
       "SVC(C=1, cache_size=200, class_weight=None, coef0=0.0,\n",
       "  decision_function_shape='ovr', degree=3, gamma=0.1, kernel='rbf',\n",
       "  max_iter=-1, probability=False, random_state=None, shrinking=True,\n",
       "  tol=0.001, verbose=False)"
      ]
     },
     "execution_count": 83,
     "metadata": {},
     "output_type": "execute_result"
    }
   ],
   "source": [
    "#Entrenamiento\n",
    "svm_body = SVC(C = 1, kernel = 'rbf', gamma = 0.1)\n",
    "svm_body.fit(tfIdf_train_body, y_train_body)"
   ]
  },
  {
   "cell_type": "code",
   "execution_count": 84,
   "metadata": {},
   "outputs": [],
   "source": [
    "#Prediccion\n",
    "predict_svm_body = svm_body.predict(tfIdf_val_body)\n",
    "test_svm_body = svm_body.predict(tfIdf_test_body)"
   ]
  },
  {
   "cell_type": "markdown",
   "metadata": {},
   "source": [
    "#### Scores"
   ]
  },
  {
   "cell_type": "markdown",
   "metadata": {},
   "source": [
    "##### Validación"
   ]
  },
  {
   "cell_type": "code",
   "execution_count": 85,
   "metadata": {},
   "outputs": [
    {
     "data": {
      "text/plain": [
       "0.9747305177593214"
      ]
     },
     "execution_count": 85,
     "metadata": {},
     "output_type": "execute_result"
    }
   ],
   "source": [
    "accuracy_score(y_val_body,predict_svm_body)"
   ]
  },
  {
   "cell_type": "code",
   "execution_count": 86,
   "metadata": {},
   "outputs": [
    {
     "data": {
      "text/plain": [
       "0.9487625348532917"
      ]
     },
     "execution_count": 86,
     "metadata": {},
     "output_type": "execute_result"
    }
   ],
   "source": [
    "matthews_corrcoef(y_val_body,predict_svm_body)"
   ]
  },
  {
   "cell_type": "markdown",
   "metadata": {},
   "source": [
    "##### Testeo"
   ]
  },
  {
   "cell_type": "code",
   "execution_count": 87,
   "metadata": {},
   "outputs": [
    {
     "data": {
      "text/plain": [
       "0.89738430583501"
      ]
     },
     "execution_count": 87,
     "metadata": {},
     "output_type": "execute_result"
    }
   ],
   "source": [
    "accuracy_score(test_clases,test_svm_body)"
   ]
  },
  {
   "cell_type": "code",
   "execution_count": 88,
   "metadata": {},
   "outputs": [
    {
     "data": {
      "text/plain": [
       "0.7940263670169704"
      ]
     },
     "execution_count": 88,
     "metadata": {},
     "output_type": "execute_result"
    }
   ],
   "source": [
    "matthews_corrcoef(test_clases,test_svm_body)"
   ]
  },
  {
   "cell_type": "markdown",
   "metadata": {},
   "source": [
    "### Cuerpos C=10 RBF $\\gamma=0.1$"
   ]
  },
  {
   "cell_type": "code",
   "execution_count": 89,
   "metadata": {},
   "outputs": [
    {
     "data": {
      "text/plain": [
       "SVC(C=10, cache_size=200, class_weight=None, coef0=0.0,\n",
       "  decision_function_shape='ovr', degree=3, gamma=0.1, kernel='rbf',\n",
       "  max_iter=-1, probability=False, random_state=None, shrinking=True,\n",
       "  tol=0.001, verbose=False)"
      ]
     },
     "execution_count": 89,
     "metadata": {},
     "output_type": "execute_result"
    }
   ],
   "source": [
    "#Entrenamiento\n",
    "svm_body = SVC(C = 10, kernel = 'rbf', gamma = 0.1)\n",
    "svm_body.fit(tfIdf_train_body, y_train_body)"
   ]
  },
  {
   "cell_type": "code",
   "execution_count": 90,
   "metadata": {},
   "outputs": [],
   "source": [
    "#Prediccion\n",
    "predict_svm_body = svm_body.predict(tfIdf_val_body)\n",
    "test_svm_body = svm_body.predict(tfIdf_test_body)"
   ]
  },
  {
   "cell_type": "markdown",
   "metadata": {},
   "source": [
    "#### Scores"
   ]
  },
  {
   "cell_type": "markdown",
   "metadata": {},
   "source": [
    "##### Validacion"
   ]
  },
  {
   "cell_type": "code",
   "execution_count": 91,
   "metadata": {},
   "outputs": [
    {
     "data": {
      "text/plain": [
       "0.9821523237321081"
      ]
     },
     "execution_count": 91,
     "metadata": {},
     "output_type": "execute_result"
    }
   ],
   "source": [
    "accuracy_score(y_val_body,predict_svm_body)"
   ]
  },
  {
   "cell_type": "code",
   "execution_count": 92,
   "metadata": {},
   "outputs": [
    {
     "data": {
      "text/plain": [
       "0.9637381727100459"
      ]
     },
     "execution_count": 92,
     "metadata": {},
     "output_type": "execute_result"
    }
   ],
   "source": [
    "matthews_corrcoef(y_val_body,predict_svm_body)"
   ]
  },
  {
   "cell_type": "markdown",
   "metadata": {},
   "source": [
    "##### Testeo"
   ]
  },
  {
   "cell_type": "code",
   "execution_count": 93,
   "metadata": {},
   "outputs": [
    {
     "data": {
      "text/plain": [
       "0.8960429242119383"
      ]
     },
     "execution_count": 93,
     "metadata": {},
     "output_type": "execute_result"
    }
   ],
   "source": [
    "accuracy_score(test_clases,test_svm_body)"
   ]
  },
  {
   "cell_type": "code",
   "execution_count": 94,
   "metadata": {},
   "outputs": [
    {
     "data": {
      "text/plain": [
       "0.7902765725961727"
      ]
     },
     "execution_count": 94,
     "metadata": {},
     "output_type": "execute_result"
    }
   ],
   "source": [
    "matthews_corrcoef(test_clases,test_svm_body)"
   ]
  },
  {
   "cell_type": "markdown",
   "metadata": {},
   "source": [
    "### Cuerpos C=0.1 RBF $\\gamma=1$"
   ]
  },
  {
   "cell_type": "code",
   "execution_count": 95,
   "metadata": {},
   "outputs": [
    {
     "data": {
      "text/plain": [
       "SVC(C=0.1, cache_size=200, class_weight=None, coef0=0.0,\n",
       "  decision_function_shape='ovr', degree=3, gamma=1, kernel='rbf',\n",
       "  max_iter=-1, probability=False, random_state=None, shrinking=True,\n",
       "  tol=0.001, verbose=False)"
      ]
     },
     "execution_count": 95,
     "metadata": {},
     "output_type": "execute_result"
    }
   ],
   "source": [
    "#Entrenamiento\n",
    "svm_body = SVC(C = 0.1, kernel = 'rbf', gamma = 1)\n",
    "svm_body.fit(tfIdf_train_body, y_train_body)"
   ]
  },
  {
   "cell_type": "code",
   "execution_count": 96,
   "metadata": {},
   "outputs": [],
   "source": [
    "#Prediccion\n",
    "predict_svm_body = svm_body.predict(tfIdf_val_body)\n",
    "test_svm_body = svm_body.predict(tfIdf_test_body)"
   ]
  },
  {
   "cell_type": "markdown",
   "metadata": {},
   "source": [
    "#### Scores"
   ]
  },
  {
   "cell_type": "markdown",
   "metadata": {},
   "source": [
    "##### Validacion"
   ]
  },
  {
   "cell_type": "code",
   "execution_count": 97,
   "metadata": {},
   "outputs": [
    {
     "data": {
      "text/plain": [
       "0.9482240678565117"
      ]
     },
     "execution_count": 97,
     "metadata": {},
     "output_type": "execute_result"
    }
   ],
   "source": [
    "accuracy_score(y_val_body,predict_svm_body)"
   ]
  },
  {
   "cell_type": "code",
   "execution_count": 98,
   "metadata": {},
   "outputs": [
    {
     "data": {
      "text/plain": [
       "0.896760406532911"
      ]
     },
     "execution_count": 98,
     "metadata": {},
     "output_type": "execute_result"
    }
   ],
   "source": [
    "matthews_corrcoef(y_val_body,predict_svm_body)"
   ]
  },
  {
   "cell_type": "markdown",
   "metadata": {},
   "source": [
    "##### Testeo"
   ]
  },
  {
   "cell_type": "code",
   "execution_count": 99,
   "metadata": {},
   "outputs": [
    {
     "data": {
      "text/plain": [
       "0.8615023474178404"
      ]
     },
     "execution_count": 99,
     "metadata": {},
     "output_type": "execute_result"
    }
   ],
   "source": [
    "accuracy_score(test_clases,test_svm_body)"
   ]
  },
  {
   "cell_type": "code",
   "execution_count": 100,
   "metadata": {},
   "outputs": [
    {
     "data": {
      "text/plain": [
       "0.7320719699758423"
      ]
     },
     "execution_count": 100,
     "metadata": {},
     "output_type": "execute_result"
    }
   ],
   "source": [
    "matthews_corrcoef(test_clases,test_svm_body)"
   ]
  },
  {
   "cell_type": "markdown",
   "metadata": {},
   "source": [
    "### Cuerpos C=1 RBF $\\gamma=1$"
   ]
  },
  {
   "cell_type": "code",
   "execution_count": 109,
   "metadata": {},
   "outputs": [
    {
     "data": {
      "text/plain": [
       "SVC(C=1, cache_size=200, class_weight=None, coef0=0.0,\n",
       "  decision_function_shape='ovr', degree=3, gamma=1, kernel='rbf',\n",
       "  max_iter=-1, probability=False, random_state=None, shrinking=True,\n",
       "  tol=0.001, verbose=False)"
      ]
     },
     "execution_count": 109,
     "metadata": {},
     "output_type": "execute_result"
    }
   ],
   "source": [
    "#Entrenamiento\n",
    "svm_body = SVC(C = 1, kernel = 'rbf', gamma = 1)\n",
    "svm_body.fit(tfIdf_train_body, y_train_body)"
   ]
  },
  {
   "cell_type": "code",
   "execution_count": 110,
   "metadata": {},
   "outputs": [],
   "source": [
    "#Prediccion\n",
    "predict_svm_body = svm_body.predict(tfIdf_val_body)\n",
    "test_svm_body = svm_body.predict(tfIdf_test_body)"
   ]
  },
  {
   "cell_type": "markdown",
   "metadata": {},
   "source": [
    "#### Scores"
   ]
  },
  {
   "cell_type": "markdown",
   "metadata": {},
   "source": [
    "##### Validacion"
   ]
  },
  {
   "cell_type": "code",
   "execution_count": 111,
   "metadata": {},
   "outputs": [
    {
     "data": {
      "text/plain": [
       "0.980915356069977"
      ]
     },
     "execution_count": 111,
     "metadata": {},
     "output_type": "execute_result"
    }
   ],
   "source": [
    "accuracy_score(y_val_body,predict_svm_body)"
   ]
  },
  {
   "cell_type": "code",
   "execution_count": 112,
   "metadata": {},
   "outputs": [
    {
     "data": {
      "text/plain": [
       "0.9612489997750436"
      ]
     },
     "execution_count": 112,
     "metadata": {},
     "output_type": "execute_result"
    }
   ],
   "source": [
    "matthews_corrcoef(y_val_body,predict_svm_body)"
   ]
  },
  {
   "cell_type": "markdown",
   "metadata": {},
   "source": [
    "###### Testeo"
   ]
  },
  {
   "cell_type": "code",
   "execution_count": 113,
   "metadata": {},
   "outputs": [
    {
     "data": {
      "text/plain": [
       "0.9030851777330651"
      ]
     },
     "execution_count": 113,
     "metadata": {},
     "output_type": "execute_result"
    }
   ],
   "source": [
    "accuracy_score(test_clases,test_svm_body)"
   ]
  },
  {
   "cell_type": "code",
   "execution_count": 114,
   "metadata": {},
   "outputs": [
    {
     "data": {
      "text/plain": [
       "0.8049138219385861"
      ]
     },
     "execution_count": 114,
     "metadata": {},
     "output_type": "execute_result"
    }
   ],
   "source": [
    "matthews_corrcoef(test_clases,test_svm_body)"
   ]
  },
  {
   "cell_type": "code",
   "execution_count": 117,
   "metadata": {},
   "outputs": [
    {
     "data": {
      "image/png": "[encoded data removed]",
      "text/plain": [
       "<Figure size 432x288 with 2 Axes>"
      ]
     },
     "metadata": {
      "needs_background": "light"
     },
     "output_type": "display_data"
    }
   ],
   "source": [
    "a = sns.heatmap(confusion_matrix(y_val_body,predict_svm_body), annot=True, cmap='Blues',fmt='g')\n",
    "plt.title('SVM RBF, C=1, $\\gamma=1$')\n",
    "plt.ylabel('True label')\n",
    "plt.xlabel('Predicted label')\n",
    "plt.show()"
   ]
  },
  {
   "cell_type": "code",
   "execution_count": 116,
   "metadata": {},
   "outputs": [
    {
     "data": {
      "image/png": "[encoded data removed]",
      "text/plain": [
       "<Figure size 432x288 with 2 Axes>"
      ]
     },
     "metadata": {
      "needs_background": "light"
     },
     "output_type": "display_data"
    }
   ],
   "source": [
    "a = sns.heatmap(confusion_matrix(test_clases,test_svm_body), annot=True, cmap='Blues',fmt='g')\n",
    "plt.title('SVM RBF, C=1, $\\gamma=1$')\n",
    "plt.ylabel('True label')\n",
    "plt.xlabel('Predicted label')\n",
    "plt.show()"
   ]
  },
  {
   "cell_type": "markdown",
   "metadata": {},
   "source": [
    "### Cuerpos C=10 RBF $\\gamma=1$"
   ]
  },
  {
   "cell_type": "code",
   "execution_count": 50,
   "metadata": {},
   "outputs": [
    {
     "data": {
      "text/plain": [
       "SVC(C=10, cache_size=200, class_weight=None, coef0=0.0,\n",
       "  decision_function_shape='ovr', degree=3, gamma=1, kernel='rbf',\n",
       "  max_iter=-1, probability=False, random_state=None, shrinking=True,\n",
       "  tol=0.001, verbose=False)"
      ]
     },
     "execution_count": 50,
     "metadata": {},
     "output_type": "execute_result"
    }
   ],
   "source": [
    "#Entrenamiento\n",
    "svm_body = SVC(C = 10, kernel = 'rbf', gamma = 1)\n",
    "svm_body.fit(tfIdf_train_body, y_train_body)"
   ]
  },
  {
   "cell_type": "code",
   "execution_count": 51,
   "metadata": {},
   "outputs": [],
   "source": [
    "#Prediccion\n",
    "predict_svm_body = svm_body.predict(tfIdf_val_body)\n",
    "test_svm_body = svm_body.predict(tfIdf_test_body)"
   ]
  },
  {
   "cell_type": "markdown",
   "metadata": {},
   "source": [
    "#### Scores"
   ]
  },
  {
   "cell_type": "markdown",
   "metadata": {},
   "source": [
    "##### Validacion"
   ]
  },
  {
   "cell_type": "code",
   "execution_count": 52,
   "metadata": {},
   "outputs": [
    {
     "data": {
      "text/plain": [
       "0.980915356069977"
      ]
     },
     "execution_count": 52,
     "metadata": {},
     "output_type": "execute_result"
    }
   ],
   "source": [
    "accuracy_score(y_val_body,predict_svm_body)"
   ]
  },
  {
   "cell_type": "code",
   "execution_count": 53,
   "metadata": {},
   "outputs": [
    {
     "data": {
      "text/plain": [
       "0.9612489997750436"
      ]
     },
     "execution_count": 53,
     "metadata": {},
     "output_type": "execute_result"
    }
   ],
   "source": [
    "matthews_corrcoef(y_val_body,predict_svm_body)"
   ]
  },
  {
   "cell_type": "markdown",
   "metadata": {},
   "source": [
    "##### Testeo"
   ]
  },
  {
   "cell_type": "code",
   "execution_count": 54,
   "metadata": {},
   "outputs": [
    {
     "data": {
      "text/plain": [
       "0.9024144869215291"
      ]
     },
     "execution_count": 54,
     "metadata": {},
     "output_type": "execute_result"
    }
   ],
   "source": [
    "accuracy_score(test_clases,test_svm_body)"
   ]
  },
  {
   "cell_type": "code",
   "execution_count": 55,
   "metadata": {},
   "outputs": [
    {
     "data": {
      "text/plain": [
       "0.8037622220184683"
      ]
     },
     "execution_count": 55,
     "metadata": {},
     "output_type": "execute_result"
    }
   ],
   "source": [
    "matthews_corrcoef(test_clases,test_svm_body)"
   ]
  },
  {
   "cell_type": "code",
   "execution_count": 56,
   "metadata": {},
   "outputs": [
    {
     "data": {
      "image/png": "[encoded data removed]",
      "text/plain": [
       "<Figure size 432x288 with 2 Axes>"
      ]
     },
     "metadata": {
      "needs_background": "light"
     },
     "output_type": "display_data"
    }
   ],
   "source": [
    "a = sns.heatmap(confusion_matrix(y_val_body,predict_svm_body), annot=True, cmap='Blues',fmt='g')\n",
    "plt.title('SVM RBF, C=10, $\\gamma=1$')\n",
    "plt.ylabel('True label')\n",
    "plt.xlabel('Predicted label')\n",
    "plt.show()"
   ]
  },
  {
   "cell_type": "code",
   "execution_count": 57,
   "metadata": {},
   "outputs": [
    {
     "data": {
      "image/png": "[encoded data removed]",
      "text/plain": [
       "<Figure size 432x288 with 2 Axes>"
      ]
     },
     "metadata": {
      "needs_background": "light"
     },
     "output_type": "display_data"
    }
   ],
   "source": [
    "a = sns.heatmap(confusion_matrix(test_clases,test_svm_body), annot=True, cmap='Blues',fmt='g')\n",
    "plt.title('SVM RBF, C=10, $\\gamma=1$')\n",
    "plt.ylabel('True label')\n",
    "plt.xlabel('Predicted label')\n",
    "plt.show()"
   ]
  },
  {
   "cell_type": "code",
   "execution_count": 99,
   "metadata": {},
   "outputs": [
    {
     "data": {
      "text/plain": [
       "array([1])"
      ]
     },
     "execution_count": 99,
     "metadata": {},
     "output_type": "execute_result"
    }
   ],
   "source": [
    "texto = 'El actor indio Sanjay Dutt, una estrella de Bollywood cuya agitada vida sirvió de guion a un filme, sufre cáncer en un pulmón, informó este miércoles la prensa. Apodado el chico malo de Bollywood, Sanjay Dutt, de 61 años, salió de prisión en 2016 tras cuatro años entre rejas por posesión ilegal de armas, que presuntamente le fueron entregadas por personas implicadas en los atentados de Bombay del 12 de marzo de 1993 (257 muertos). El martes, Dutt publicó un comunicado en las redes sociales en que decía que estaba haciendo \"una breve pausa para recibir tratamiento médico\". Después, los medios citaron un tuit del periodista especializado Komal Nahta, según el cual sufre cáncer de pulmón y viajará a Estados Unidos para recibir tratamiento. Sanjay Dutt saltó a la palestra a mediados de la década de 1980 con filmes de acción en los que él mismo protagonizaba las escenas peligrosas. Pero, su vida dio un giro dramático al ser arrestado tras los atentados de Bombay. Casado tres veces, perdió a su primera esposa Richa, en 1996, quien padecía un tumor cerebral. En 2018, una película titulada \"Sanju\" recreó su ajetreada vida. Pensaba que tenía covid-19 The Times of India publicó este miércoles en exclusiva los detalles de cómo Dutt se enteró de que tenía cáncer, aunque sin citar fuentes. Según el medio, el pasado 8 de agosto el actor sintió dificultad para respirar y pensó que se había contagiado de coronavirus. Acompañado de su hermana y un amigo, Dutt se trasladó hasta un hospital donde tras examinarlo, los médicos detectaron problemas con su pulmón derecho. Por ello le practicaron un scanner que reveló acumulación de líquido y dos lesiones. Tras extraerle el líquido, este fue enviado a analizar. En paralelo, el actor fue sometido a un PET. Los resultados de ambos exámenes confirmaron el diagnóstico de cáncer. De acuerdo a The Times of India, el cáncer de pulmón debe tratarse con quimioterapia y por el momento no se contempla la opción de una cirugía.'\n",
    "n = [' '.join(process_corpus(texto))]\n",
    "\n",
    "svm_titles.predict(tfIdf_vectorizer_train_titles.transform(n))"
   ]
  },
  {
   "cell_type": "code",
   "execution_count": 101,
   "metadata": {},
   "outputs": [],
   "source": [
    "filename = 'tfidftitles.sav'\n",
    "pickle.dump(tfIdf_vectorizer_train_titles, open(filename, 'wb'))"
   ]
  },
  {
   "cell_type": "code",
   "execution_count": 94,
   "metadata": {},
   "outputs": [],
   "source": [
    "loaded_model = pickle.load(open(filename, 'rb'))"
   ]
  },
  {
   "cell_type": "code",
   "execution_count": 96,
   "metadata": {},
   "outputs": [
    {
     "data": {
      "text/plain": [
       "1"
      ]
     },
     "execution_count": 96,
     "metadata": {},
     "output_type": "execute_result"
    }
   ],
   "source": [
    "int(loaded_model.predict(tfIdf_vectorizer_train_body.transform(n)))"
   ]
  },
  {
   "cell_type": "code",
   "execution_count": 20,
   "metadata": {},
   "outputs": [],
   "source": [
    "filename = 'svmtitles.sav'\n",
    "titlemodel = pickle.load(open(filename, 'rb'))"
   ]
  },
  {
   "cell_type": "code",
   "execution_count": 21,
   "metadata": {},
   "outputs": [],
   "source": [
    "filename = 'svmbody.sav'\n",
    "bodymodel = pickle.load(open(filename, 'rb'))"
   ]
  },
  {
   "cell_type": "code",
   "execution_count": 22,
   "metadata": {},
   "outputs": [],
   "source": [
    "pred_val = bodymodel.predict(tfIdf_val_body)"
   ]
  },
  {
   "cell_type": "code",
   "execution_count": 41,
   "metadata": {},
   "outputs": [],
   "source": [
    "pred_test = bodymodel.predict(tfIdf_test_body)"
   ]
  },
  {
   "cell_type": "code",
   "execution_count": 47,
   "metadata": {},
   "outputs": [
    {
     "data": {
      "image/png": "[encoded data removed]",
      "text/plain": [
       "<Figure size 432x288 with 2 Axes>"
      ]
     },
     "metadata": {
      "needs_background": "light"
     },
     "output_type": "display_data"
    }
   ],
   "source": [
    "cm_val = confusion_matrix(y_val_body,pred_val)\n",
    "cm_val = np.round(cm_val/ cm_val.astype(np.float).sum(axis=1),2)\n",
    "a = sns.heatmap(cm_val, annot=True, cmap='Blues',fmt='g')\n",
    "plt.title('SVM RBF, C=10, $\\gamma=1$ (validación)')\n",
    "plt.ylabel('True label')\n",
    "plt.xlabel('Predicted label')\n",
    "plt.show()"
   ]
  },
  {
   "cell_type": "code",
   "execution_count": 46,
   "metadata": {},
   "outputs": [
    {
     "data": {
      "image/png": "[encoded data removed]",
      "text/plain": [
       "<Figure size 432x288 with 2 Axes>"
      ]
     },
     "metadata": {
      "needs_background": "light"
     },
     "output_type": "display_data"
    }
   ],
   "source": [
    "cm_test = confusion_matrix(test_clases,pred_test)\n",
    "cm_test = np.round(cm_test/ cm_test.astype(np.float).sum(axis=1),2)\n",
    "a = sns.heatmap(cm_test, annot=True, cmap='Blues',fmt='g')\n",
    "plt.title('SVM RBF, C=10, $\\gamma=1$ (test)')\n",
    "plt.ylabel('True label')\n",
    "plt.xlabel('Predicted label')\n",
    "plt.show()"
   ]
  }
 ],
 "metadata": {
  "kernelspec": {
   "display_name": "Python 3",
   "language": "python",
   "name": "python3"
  },
  "language_info": {
   "codemirror_mode": {
    "name": "ipython",
    "version": 3
   },
   "file_extension": ".py",
   "mimetype": "text/x-python",
   "name": "python",
   "nbconvert_exporter": "python",
   "pygments_lexer": "ipython3",
   "version": "3.7.0"
  }
 },
 "nbformat": 4,
 "nbformat_minor": 2
}
